{
 "cells": [
  {
   "cell_type": "markdown",
   "id": "5c0c9979-f18f-4f0b-8f11-b61e71fd647d",
   "metadata": {},
   "source": [
    "## Job Title Generalization ##"
   ]
  },
  {
   "cell_type": "code",
   "execution_count": 2,
   "id": "78407459-377b-44eb-9b7a-8fb5cbcd3d06",
   "metadata": {},
   "outputs": [],
   "source": [
    "# import libraries\n",
    "import pandas as pd\n",
    "import numpy as np\n",
    "from bs4 import BeautifulSoup\n",
    "import random\n",
    "import openai\n",
    "from dotenv import load_dotenv\n",
    "import os\n",
    "import json\n",
    "import fasttext\n",
    "from sklearn.model_selection import train_test_split"
   ]
  },
  {
   "cell_type": "code",
   "execution_count": 3,
   "id": "1d98c06d-02da-42c5-b15e-1cb5e7247323",
   "metadata": {},
   "outputs": [],
   "source": [
    "\n",
    "df=pd.read_csv('data_set.csv')"
   ]
  },
  {
   "cell_type": "markdown",
   "id": "044230fc-6d82-4aac-92c3-604d47023133",
   "metadata": {},
   "source": [
    "## Data Cleaning ##"
   ]
  },
  {
   "cell_type": "code",
   "execution_count": 3,
   "id": "33b3ee0f-b2f4-4a90-9abd-b54873db5ded",
   "metadata": {},
   "outputs": [
    {
     "data": {
      "text/html": [
       "<div>\n",
       "<style scoped>\n",
       "    .dataframe tbody tr th:only-of-type {\n",
       "        vertical-align: middle;\n",
       "    }\n",
       "\n",
       "    .dataframe tbody tr th {\n",
       "        vertical-align: top;\n",
       "    }\n",
       "\n",
       "    .dataframe thead th {\n",
       "        text-align: right;\n",
       "    }\n",
       "</style>\n",
       "<table border=\"1\" class=\"dataframe\">\n",
       "  <thead>\n",
       "    <tr style=\"text-align: right;\">\n",
       "      <th></th>\n",
       "      <th>RequisitionID</th>\n",
       "      <th>OrigJobTitle</th>\n",
       "      <th>JobTitle</th>\n",
       "      <th>JobDescription</th>\n",
       "    </tr>\n",
       "  </thead>\n",
       "  <tbody>\n",
       "    <tr>\n",
       "      <th>0</th>\n",
       "      <td>NaN</td>\n",
       "      <td>Licensed Stationary Engineer</td>\n",
       "      <td>ENGINEER (all other)</td>\n",
       "      <td>Licensed Stationary Engineer \\n\\n Froedtert So...</td>\n",
       "    </tr>\n",
       "    <tr>\n",
       "      <th>1</th>\n",
       "      <td>00000224907</td>\n",
       "      <td>Guidance Navigation and Control (GN&amp;C) Enginee...</td>\n",
       "      <td>ENGINEER (all other)</td>\n",
       "      <td>**The Boeing Company**  is in search of a  **L...</td>\n",
       "    </tr>\n",
       "    <tr>\n",
       "      <th>2</th>\n",
       "      <td>00000331804</td>\n",
       "      <td>Propulsion Engineer - Associate, Mid-Level and...</td>\n",
       "      <td>ENGINEER (all other)</td>\n",
       "      <td>**Job Description**\\n\\nAt Boeing, we innovate ...</td>\n",
       "    </tr>\n",
       "    <tr>\n",
       "      <th>3</th>\n",
       "      <td>00000336462</td>\n",
       "      <td>Senior Process Controls Engineer</td>\n",
       "      <td>ENGINEER (all other)</td>\n",
       "      <td>**Job Description**\\n\\nAt Boeing, we innovate ...</td>\n",
       "    </tr>\n",
       "    <tr>\n",
       "      <th>4</th>\n",
       "      <td>00000338951</td>\n",
       "      <td>RF/Microwave Engineer (Level 2 or 3)</td>\n",
       "      <td>ENGINEER (all other)</td>\n",
       "      <td>**Job Description**\\n\\nAt Boeing, we innovate ...</td>\n",
       "    </tr>\n",
       "    <tr>\n",
       "      <th>5</th>\n",
       "      <td>00000339390</td>\n",
       "      <td>Interior Stress Analysis Engineer - Career, Ex...</td>\n",
       "      <td>ENGINEER (all other)</td>\n",
       "      <td>**Job Description**\\n\\nAt Boeing, we innovate ...</td>\n",
       "    </tr>\n",
       "    <tr>\n",
       "      <th>6</th>\n",
       "      <td>00000340676</td>\n",
       "      <td>Flight Controls Laws and Autoflight Engineer (...</td>\n",
       "      <td>ENGINEER (all other)</td>\n",
       "      <td>**Job Description**\\n\\nAt Boeing, we innovate ...</td>\n",
       "    </tr>\n",
       "    <tr>\n",
       "      <th>7</th>\n",
       "      <td>00000359847</td>\n",
       "      <td>Lead RF/Digital Hardware Subsystems Engineer</td>\n",
       "      <td>ENGINEER (all other)</td>\n",
       "      <td>**Job Description**\\n\\nAt Boeing, we innovate ...</td>\n",
       "    </tr>\n",
       "    <tr>\n",
       "      <th>8</th>\n",
       "      <td>00000361859</td>\n",
       "      <td>Senior Integrated Circuit Layout Engineer</td>\n",
       "      <td>ENGINEER (all other)</td>\n",
       "      <td>**Job Description**\\n\\nAt Boeing, we innovate ...</td>\n",
       "    </tr>\n",
       "    <tr>\n",
       "      <th>9</th>\n",
       "      <td>00000362125</td>\n",
       "      <td>Senior Interiors Design Engineer - Level 4</td>\n",
       "      <td>ENGINEER (all other)</td>\n",
       "      <td>**Job Description**\\n\\nAt Boeing, we innovate ...</td>\n",
       "    </tr>\n",
       "  </tbody>\n",
       "</table>\n",
       "</div>"
      ],
      "text/plain": [
       "  RequisitionID                                       OrigJobTitle  \\\n",
       "0           NaN                       Licensed Stationary Engineer   \n",
       "1   00000224907  Guidance Navigation and Control (GN&C) Enginee...   \n",
       "2   00000331804  Propulsion Engineer - Associate, Mid-Level and...   \n",
       "3   00000336462                   Senior Process Controls Engineer   \n",
       "4   00000338951               RF/Microwave Engineer (Level 2 or 3)   \n",
       "5   00000339390  Interior Stress Analysis Engineer - Career, Ex...   \n",
       "6   00000340676  Flight Controls Laws and Autoflight Engineer (...   \n",
       "7   00000359847       Lead RF/Digital Hardware Subsystems Engineer   \n",
       "8   00000361859          Senior Integrated Circuit Layout Engineer   \n",
       "9   00000362125         Senior Interiors Design Engineer - Level 4   \n",
       "\n",
       "               JobTitle                                     JobDescription  \n",
       "0  ENGINEER (all other)  Licensed Stationary Engineer \\n\\n Froedtert So...  \n",
       "1  ENGINEER (all other)  **The Boeing Company**  is in search of a  **L...  \n",
       "2  ENGINEER (all other)  **Job Description**\\n\\nAt Boeing, we innovate ...  \n",
       "3  ENGINEER (all other)  **Job Description**\\n\\nAt Boeing, we innovate ...  \n",
       "4  ENGINEER (all other)  **Job Description**\\n\\nAt Boeing, we innovate ...  \n",
       "5  ENGINEER (all other)  **Job Description**\\n\\nAt Boeing, we innovate ...  \n",
       "6  ENGINEER (all other)  **Job Description**\\n\\nAt Boeing, we innovate ...  \n",
       "7  ENGINEER (all other)  **Job Description**\\n\\nAt Boeing, we innovate ...  \n",
       "8  ENGINEER (all other)  **Job Description**\\n\\nAt Boeing, we innovate ...  \n",
       "9  ENGINEER (all other)  **Job Description**\\n\\nAt Boeing, we innovate ...  "
      ]
     },
     "execution_count": 3,
     "metadata": {},
     "output_type": "execute_result"
    }
   ],
   "source": [
    "df.head(10)"
   ]
  },
  {
   "cell_type": "code",
   "execution_count": 4,
   "id": "9cf6dd6b-8350-4ed0-b627-fa6791f06b31",
   "metadata": {},
   "outputs": [
    {
     "data": {
      "text/plain": [
       "\"**Job Description**\\\\n\\\\nAt Boeing, we innovate and collaborate to make the world a better place. From the seabed to outer space, you can contribute to work that matters with a company where diversity, equity and inclusion are shared values. We're committed to fostering an environment for every teammate that's welcoming, respectful and inclusive, with great opportunity for professional growth. Find your future with us.\\\\n\\\\nThe Boeing Company has an exciting opportunity for  **Veterans- Associate/ Experienced/ Senior**   **Multi-skill Engineer (Levels 2-4)**  to join current and emerging programs located in  **Berkeley, MO.**  This position will focus on supporting the Boeing Defense, Space & Security (BDS) business organization.\\\\n\\\\nEngineers are the people who create, design and process the avionics in Boeing Defense Systems (BDS) products that we use in the modern world. Boeing needs experienced veterans who have worked on our product lines throughout their military tenure. We want you to join our team!\\\\n\\\\n**Position Responsibilities:**\\\\n\\\\n+ Applies an interdisciplinary, collaborative approach to plan, design, develop and verify a lifecycle balanced system of systems and system solutions.\\\\n\\\\n+ Evaluates customer and /operational needs to define and coordinate system performance requirements, integrate technical parameters and assure compatibility of all physical, functional and program interfaces.\\\\n\\\\n+ Performs various analyses to optimize total system of systems and/or system architecture.\\\\n\\\\n+ Performs analyses for affordability, safety, reliability, maintainability, testability, human systems integration, survivability, vulnerability, susceptibility, system security, regulatory, certification, product assurance and other specialties quality factors into a preferred configuration to ensure mission success.\\\\n\\\\n+ Develops the planning, organization, implementation and monitoring of requirements management processes, tools, risk, issues, opportunity management and technology readiness assessment processes.\\\\n\\\\n+ Resolves cross-functional technical issues.\\\\n\\\\n**There are opportunities to work virtually, depending on program availability. Some positions will require to be 100% onsite.**\\\\n\\\\n**Export Control:**\\\\n\\\\n**This position requires the ability to obtain a US Security Clearance for which the US Government requires US Citizenship.**  An interim and/or final U.S. Secret Clearance Post-Start is required.\\\\n\\\\n**Basic Qualifications (Required Skill/Experience):**\\\\n\\\\n+ Bachelors, Master's or Doctorate of Science degree from an accredited course of study, in engineering, computer science, mathematics, physics or chemistry.\\\\n\\\\n**Preferred Qualifications (Desired Skills/Experience):**\\\\n\\\\n+ Experience in avionics\\\\n\\\\n+ Experience using good communication, analytical, and organizational skills and be able to work in a team environment\\\\n\\\\n+ Experience within a design/build team\\\\n\\\\n+ Experience creating, developing, and/or maintaining engineering processes\\\\n\\\\n+ Strong knowledge of data structures, system design, and architecture\\\\n\\\\n**Typical Education:**\\\\n\\\\n**Level 2:**  Education/experience typically acquired through advanced technical education from an accredited course of study in engineering, computer science, mathematics, physics or chemistry (e.g. Bachelor) and typically 2 or more years' related work experience or an equivalent combination of technical education and experience (e.g. Master). In the USA, ABET accreditation is the preferred, although not required, accreditation standard\\\\n\\\\n**Level 3:**  Education/experience typically acquired through advanced technical education from an accredited course of study in engineering, computer science, mathematics, physics or chemistry (e.g. Bachelor) and typically 5 or more years' related work experience or an equivalent combination of technical education and experience (e.g. PhD, Master+3 years' related work experience). In the USA, ABET accreditation is the preferred, although not required, accreditation standard.\\\\n\\\\n**Level 4:**  Education/experience typically acquired through advanced technical education from an accredited course of study in engineering, computer science, mathematics, physics or chemistry (e.g. Bachelor) and typically 9 or more years' related work experience or an equivalent combination of technical education and experience (e.g. PhD+4 years' related work experience, Master+7 years' related work experience). In the USA, ABET accreditation is the preferred, although not required, accreditation standard.\\\\n\\\\n**Relocation:**\\\\n\\\\nThis position offers relocation based on candidate eligibility.\\\\n\\\\n**Drug Free Workplace:**\\\\n\\\\nBoeing is a Drug Free Workplace where post offer applicants and employees are subject to testing for marijuana, cocaine, opioids, amphetamines, PCP, and alcohol when criteria is met as outlined in our policies.\\\\n\\\\n**Shift:**  First Shift\\\\n\\\\nAt Boeing, we strive to deliver a Total Rewards package that will attract, engage and retain the top talent.  Elements of the Total Rewards package include competitive base pay and variable compensation opportunities.\\\\n\\\\nThe Boeing Company also provides eligible employees with an opportunity to enroll in a variety of benefit programs, generally including health insurance, flexible spending accounts, health savings accounts, retirement savings plans, life and disability insurance programs, and a number of programs that provide for both paid and unpaid time away from work.\\\\n\\\\nThe specific programs and options available to any given employee may vary depending on eligibility factors such as geographic location, date of hire, and the applicability of collective bargaining agreements.\\\\n\\\\nPlease note that the salary information shown below is a general guideline only.  Salaries are based upon candidate experience and qualifications, as well as market and business considerations.\\\\n\\\\nSummary pay range for Associate Level 2 position: 81,600-110,400\\\\n\\\\nSummary pay range for Experienced Level 3 position: 97,750-132,250\\\\n\\\\nSummary pay range for Senior Level 4 position: 119,850-162,150\\\\n\\\\n**Equal Opportunity Employer:**\\\\n\\\\nBoeing is an Equal Opportunity Employer. Employment decisions are made without regard to race, color, religion, national origin, gender, sexual orientation, gender identity, age, physical or mental disability, genetic factors, military/veteran status or other characteristics protected by law.\\\\n\\\\nBoeing is an Equal Opportunity Employer. Employment decisions are made without regard to race, color, religion, national origin, gender, sexual orientation, gender identity, age, physical or mental disability, genetic factors, military/veteran status or other characteristics protected by law.  <script id=detrack defer src=https://d2e48ltfsb5exy.cloudfront.net/p/t.js?i=0,1 data-g=1c9fa55e374a40bca2765cac736b47161691></script>\""
      ]
     },
     "execution_count": 4,
     "metadata": {},
     "output_type": "execute_result"
    }
   ],
   "source": [
    "df['JobDescription'][10]"
   ]
  },
  {
   "cell_type": "markdown",
   "id": "c03cf376-7d34-4f1d-b222-e54ef0a8407b",
   "metadata": {},
   "source": [
    "**Removing HTML Tags**"
   ]
  },
  {
   "cell_type": "code",
   "execution_count": 4,
   "id": "21b28f67-47eb-45bd-b2a4-3624c8075e12",
   "metadata": {},
   "outputs": [
    {
     "name": "stderr",
     "output_type": "stream",
     "text": [
      "/tmp/ipykernel_15583/2700934483.py:15: MarkupResemblesLocatorWarning: The input looks more like a filename than markup. You may want to open this file and pass the filehandle into Beautiful Soup.\n",
      "  return BeautifulSoup(text, \"html.parser\").get_text()\n"
     ]
    }
   ],
   "source": [
    "# Function to clean the text by removing special characters\n",
    "# def clean_text(text):\n",
    "#     if isinstance(text, str):\n",
    "#         text = text.replace(\"\\\\n\", \"\\n\")  # Replace \"\\\\n\" with actual new lines\n",
    "#         text = text.replace(\"\\n\", \"\")\n",
    "#         text = text.replace(\"+\", \"\")\n",
    "#         text = text.replace(\"**\", \"\")     # Remove \"**\"\n",
    "#     return text\n",
    "\n",
    "# # Apply the function to the JobDescription column\n",
    "# df['JobDescription'] = df['JobDescription'].apply(clean_text)\n",
    "\n",
    "# Function to remove HTML tags\n",
    "def clean_html(text):\n",
    "    return BeautifulSoup(text, \"html.parser\").get_text()\n",
    "\n",
    "# Apply the function to the JobDescription column\n",
    "df['JobDescription'] = df['JobDescription'].apply(clean_html)"
   ]
  },
  {
   "cell_type": "code",
   "execution_count": 5,
   "id": "5093704c-ad3c-460f-b5fe-0bdb77a1c08f",
   "metadata": {},
   "outputs": [
    {
     "data": {
      "text/plain": [
       "\"**Job Description**\\\\n\\\\nAt Boeing, we innovate and collaborate to make the world a better place. From the seabed to outer space, you can contribute to work that matters with a company where diversity, equity and inclusion are shared values. We're committed to fostering an environment for every teammate that's welcoming, respectful and inclusive, with great opportunity for professional growth. Find your future with us.\\\\n\\\\nThe Boeing Company has an exciting opportunity for  **Veterans- Associate/ Experienced/ Senior**   **Multi-skill Engineer (Levels 2-4)**  to join current and emerging programs located in  **Berkeley, MO.**  This position will focus on supporting the Boeing Defense, Space & Security (BDS) business organization.\\\\n\\\\nEngineers are the people who create, design and process the avionics in Boeing Defense Systems (BDS) products that we use in the modern world. Boeing needs experienced veterans who have worked on our product lines throughout their military tenure. We want you to join our team!\\\\n\\\\n**Position Responsibilities:**\\\\n\\\\n+ Applies an interdisciplinary, collaborative approach to plan, design, develop and verify a lifecycle balanced system of systems and system solutions.\\\\n\\\\n+ Evaluates customer and /operational needs to define and coordinate system performance requirements, integrate technical parameters and assure compatibility of all physical, functional and program interfaces.\\\\n\\\\n+ Performs various analyses to optimize total system of systems and/or system architecture.\\\\n\\\\n+ Performs analyses for affordability, safety, reliability, maintainability, testability, human systems integration, survivability, vulnerability, susceptibility, system security, regulatory, certification, product assurance and other specialties quality factors into a preferred configuration to ensure mission success.\\\\n\\\\n+ Develops the planning, organization, implementation and monitoring of requirements management processes, tools, risk, issues, opportunity management and technology readiness assessment processes.\\\\n\\\\n+ Resolves cross-functional technical issues.\\\\n\\\\n**There are opportunities to work virtually, depending on program availability. Some positions will require to be 100% onsite.**\\\\n\\\\n**Export Control:**\\\\n\\\\n**This position requires the ability to obtain a US Security Clearance for which the US Government requires US Citizenship.**  An interim and/or final U.S. Secret Clearance Post-Start is required.\\\\n\\\\n**Basic Qualifications (Required Skill/Experience):**\\\\n\\\\n+ Bachelors, Master's or Doctorate of Science degree from an accredited course of study, in engineering, computer science, mathematics, physics or chemistry.\\\\n\\\\n**Preferred Qualifications (Desired Skills/Experience):**\\\\n\\\\n+ Experience in avionics\\\\n\\\\n+ Experience using good communication, analytical, and organizational skills and be able to work in a team environment\\\\n\\\\n+ Experience within a design/build team\\\\n\\\\n+ Experience creating, developing, and/or maintaining engineering processes\\\\n\\\\n+ Strong knowledge of data structures, system design, and architecture\\\\n\\\\n**Typical Education:**\\\\n\\\\n**Level 2:**  Education/experience typically acquired through advanced technical education from an accredited course of study in engineering, computer science, mathematics, physics or chemistry (e.g. Bachelor) and typically 2 or more years' related work experience or an equivalent combination of technical education and experience (e.g. Master). In the USA, ABET accreditation is the preferred, although not required, accreditation standard\\\\n\\\\n**Level 3:**  Education/experience typically acquired through advanced technical education from an accredited course of study in engineering, computer science, mathematics, physics or chemistry (e.g. Bachelor) and typically 5 or more years' related work experience or an equivalent combination of technical education and experience (e.g. PhD, Master+3 years' related work experience). In the USA, ABET accreditation is the preferred, although not required, accreditation standard.\\\\n\\\\n**Level 4:**  Education/experience typically acquired through advanced technical education from an accredited course of study in engineering, computer science, mathematics, physics or chemistry (e.g. Bachelor) and typically 9 or more years' related work experience or an equivalent combination of technical education and experience (e.g. PhD+4 years' related work experience, Master+7 years' related work experience). In the USA, ABET accreditation is the preferred, although not required, accreditation standard.\\\\n\\\\n**Relocation:**\\\\n\\\\nThis position offers relocation based on candidate eligibility.\\\\n\\\\n**Drug Free Workplace:**\\\\n\\\\nBoeing is a Drug Free Workplace where post offer applicants and employees are subject to testing for marijuana, cocaine, opioids, amphetamines, PCP, and alcohol when criteria is met as outlined in our policies.\\\\n\\\\n**Shift:**  First Shift\\\\n\\\\nAt Boeing, we strive to deliver a Total Rewards package that will attract, engage and retain the top talent.  Elements of the Total Rewards package include competitive base pay and variable compensation opportunities.\\\\n\\\\nThe Boeing Company also provides eligible employees with an opportunity to enroll in a variety of benefit programs, generally including health insurance, flexible spending accounts, health savings accounts, retirement savings plans, life and disability insurance programs, and a number of programs that provide for both paid and unpaid time away from work.\\\\n\\\\nThe specific programs and options available to any given employee may vary depending on eligibility factors such as geographic location, date of hire, and the applicability of collective bargaining agreements.\\\\n\\\\nPlease note that the salary information shown below is a general guideline only.  Salaries are based upon candidate experience and qualifications, as well as market and business considerations.\\\\n\\\\nSummary pay range for Associate Level 2 position: 81,600-110,400\\\\n\\\\nSummary pay range for Experienced Level 3 position: 97,750-132,250\\\\n\\\\nSummary pay range for Senior Level 4 position: 119,850-162,150\\\\n\\\\n**Equal Opportunity Employer:**\\\\n\\\\nBoeing is an Equal Opportunity Employer. Employment decisions are made without regard to race, color, religion, national origin, gender, sexual orientation, gender identity, age, physical or mental disability, genetic factors, military/veteran status or other characteristics protected by law.\\\\n\\\\nBoeing is an Equal Opportunity Employer. Employment decisions are made without regard to race, color, religion, national origin, gender, sexual orientation, gender identity, age, physical or mental disability, genetic factors, military/veteran status or other characteristics protected by law.  \""
      ]
     },
     "execution_count": 5,
     "metadata": {},
     "output_type": "execute_result"
    }
   ],
   "source": [
    "df['JobDescription'][10]"
   ]
  },
  {
   "cell_type": "code",
   "execution_count": 7,
   "id": "54e42512-9a41-4ee3-9d6e-18af5e4c253b",
   "metadata": {},
   "outputs": [
    {
     "data": {
      "text/plain": [
       "RequisitionID     1\n",
       "OrigJobTitle      0\n",
       "JobTitle          0\n",
       "JobDescription    0\n",
       "dtype: int64"
      ]
     },
     "execution_count": 7,
     "metadata": {},
     "output_type": "execute_result"
    }
   ],
   "source": [
    "nan_count = np.sum(df.isnull(), axis=0)\n",
    "nan_count"
   ]
  },
  {
   "cell_type": "markdown",
   "id": "bec355b7-e98a-42bf-916f-7343784dbd46",
   "metadata": {},
   "source": [
    "## Job Description Sentence Classifier ##"
   ]
  },
  {
   "cell_type": "code",
   "execution_count": 8,
   "id": "35c6c947-796e-4237-97a3-196fcc19cf45",
   "metadata": {},
   "outputs": [
    {
     "data": {
      "text/plain": [
       "9666     SURVIVABILITY ENGINEER 2\\n\\nLocation:\\n\\nNewpo...\n",
       "2724     Requisition Number: 15838 \\n\\nRequired Travel:...\n",
       "19006    **Secure our Nation, Ignite your Future**\\n\\n*...\n",
       "15304    Description:\\n\\nWe are looking for an Instrume...\n",
       "14411    RH2 is currently seeking an entry-level Staff ...\n",
       "Name: JobDescription, dtype: object"
      ]
     },
     "execution_count": 8,
     "metadata": {},
     "output_type": "execute_result"
    }
   ],
   "source": [
    "random_sample = df['JobDescription'].sample(n=500, random_state=42)\n",
    "random_sample.head()"
   ]
  },
  {
   "cell_type": "markdown",
   "id": "20c1507a-46c4-46e0-bd91-c9a356369eca",
   "metadata": {},
   "source": [
    "***Setting OpenAI API key***"
   ]
  },
  {
   "cell_type": "code",
   "execution_count": 22,
   "id": "dfb0321a-9ea4-4db1-b384-32986ef0ed06",
   "metadata": {},
   "outputs": [],
   "source": [
    "# Set up your OpenAI API key\n",
    "openai.api_key = \"API_KEY\""
   ]
  },
  {
   "cell_type": "code",
   "execution_count": 23,
   "id": "cd1c995f-7a94-47bf-a598-b1002cc88103",
   "metadata": {},
   "outputs": [],
   "source": [
    "# Set up your OpenAI API key\n",
    "#load_dotenv() # loads the .env file\n",
    "#api_key = os.getenv('API_KEY')"
   ]
  },
  {
   "cell_type": "code",
   "execution_count": 24,
   "id": "e94be31d-af1a-416c-8b05-c997d0a93266",
   "metadata": {},
   "outputs": [],
   "source": [
    "# Check if the API key is loaded correctly\n",
    "#if api_key is None:\n",
    "    #print(\"API key not found!\")\n",
    "#else:\n",
    "    #print(\"API key loaded successfully.\")\n"
   ]
  },
  {
   "cell_type": "code",
   "execution_count": 25,
   "id": "01b8341a-95fe-4b12-80d9-c5adc0157bfd",
   "metadata": {},
   "outputs": [],
   "source": [
    "\n",
    "def call_openai_api(job_posting): \n",
    "    prompt = f\"\"\"\n",
    "    Break up the following job description into the following categories: Marketing, Description, Requirements, Legal.\n",
    "    For each category, return an array containing the sentences from the job posting corresponding to the category. Return this in JSON formatting\n",
    "\n",
    "    Job Posting:\n",
    "    \"{job_posting}\"\n",
    "\n",
    "    The format should be as follows:\n",
    "\n",
    "    **Marketing:** [Any sentence that promotes the job or company]\n",
    "    **Description:** [Any sentence that explains the job role, company, or purpose of the role]\n",
    "    **Requirements:** [Any sentence that outlines qualifications or skills needed for the role]\n",
    "    **Legal:** [Any sentence that includes legal or compliance information such as equal opportunity statements, privacy, or legal disclaimers]\n",
    "    \"\"\"\n",
    "    try:\n",
    "        # Directly use openai.ChatCompletion.create() without defining a client\n",
    "        chat_completion = openai.ChatCompletion.create(\n",
    "            model=\"gpt-4o-mini\",  # Ensure the correct model is being used\n",
    "            messages=[{\n",
    "                \"role\": \"user\", \n",
    "                \"content\": \"follow the format and DON't other weird delimiters.\" + prompt\n",
    "            }]\n",
    "        )\n",
    "\n",
    "        # Get the content from the response\n",
    "        parsed_response = chat_completion['choices'][0]['message']['content']\n",
    "\n",
    "        '''parsed_response = json.loads(response_content)\n",
    "        \n",
    "        file_path = \"job_posting_categories.json\"\n",
    "\n",
    "        # Check if the file exists\n",
    "        if os.path.exists(file_path):\n",
    "            # If the file exists, read its content\n",
    "            with open(file_path, \"r\") as json_file:\n",
    "                try:\n",
    "                    existing_data = json.load(json_file)  # Load existing content\n",
    "                except json.JSONDecodeError:\n",
    "                    existing_data = []  # If file is empty or invalid JSON, start with an empty list\n",
    "        else:\n",
    "            existing_data = []\n",
    "\n",
    "        # Append the new data to the existing list\n",
    "        existing_data.append(parsed_response)\n",
    "\n",
    "        # Write the updated list back to the file\n",
    "        with open(file_path, \"w\") as json_file:\n",
    "            json.dump(existing_data, json_file, indent=4)'''\n",
    "\n",
    "\n",
    "        return parsed_response\n",
    "        '''response_dict = chat_completion.choices[0].message.content \n",
    "\n",
    "        testing_df['Categorized_Posting']\n",
    "\n",
    "        save_to_json(response_dict, \"output.json\")\n",
    "\n",
    "        return response_dict'''\n",
    "    \n",
    "    except Exception as e: \n",
    "        return f\"Error: {str(e)}\""
   ]
  },
  {
   "cell_type": "code",
   "execution_count": 26,
   "id": "a603becb-63d1-4c42-8b79-07775810ec3f",
   "metadata": {},
   "outputs": [],
   "source": [
    " #Apply the `call_openai_api` function to each job description\n",
    "random_sample_categorized = random_sample.apply(call_openai_api)"
   ]
  },
  {
   "cell_type": "code",
   "execution_count": 27,
   "id": "9f3f038f-9fd1-4c4e-9dda-f1db3667fa18",
   "metadata": {},
   "outputs": [],
   "source": [
    "# Option 1: Store the results in a DataFrame\n",
    "result_df = pd.DataFrame({\n",
    "    'JobDescription': random_sample,\n",
    "    'Categorized_Posting': random_sample_categorized\n",
    "})"
   ]
  },
  {
   "cell_type": "markdown",
   "id": "4f7f8512-1769-4925-a540-9a1c7584c205",
   "metadata": {},
   "source": [
    "**Training Dataset**"
   ]
  },
  {
   "cell_type": "code",
   "execution_count": 28,
   "id": "9bc92bd5-665b-42fc-aaf2-c0f48d946d34",
   "metadata": {},
   "outputs": [],
   "source": [
    "result_df.to_csv('output_file.csv', index=False)"
   ]
  },
  {
   "cell_type": "code",
   "execution_count": 29,
   "id": "fe85167c-ee67-409f-bb2e-035fe613b709",
   "metadata": {},
   "outputs": [
    {
     "name": "stdout",
     "output_type": "stream",
     "text": [
      "```json\n",
      "{\n",
      "  \"Marketing\": [\n",
      "    \"Want to be part of the team? Apply today! We look forward to meeting you.\",\n",
      "    \"We serve the heroes who protect our freedom.\",\n",
      "    \"Recognized as one of America's top large company employers, we are a values and ethics driven organization that puts people's safety and well-being first.\",\n",
      "    \"Working at HII is more than a job - it's an opportunity to build a future.\"\n",
      "  ],\n",
      "  \"Description\": [\n",
      "    \"With more than 25,000 employees - including third-, fourth- and even fifth-generation shipbuilders - HII's Newport News Shipbuilding (NNS) division is the largest industrial employer in Virginia.\",\n",
      "    \"Our diverse and innovative team of professionals ranges from skilled trades to project managers, engineers and software developers to solution architects, technical subject matter experts, and system users.\",\n",
      "    \"Anchored in our rich, 135-year history, we collaborate together at the forefront of technology, manufacturing, and integration of the most powerful and survivable naval ships in the world.\",\n",
      "    \"This position is in the Ship Survivability Department supporting the construction, maintenance, overhaul, and modernization of CVN 68 and CVN 78 Class aircraft carriers as well as research and development, specialized technical assignments, and cost reduction initiatives.\",\n",
      "    \"The successful applicant should have technical knowledge in naval ship survivability, aircraft carrier protection systems, and experience related to designing and maintaining naval ship structures, materials, welding, and NDT.\",\n",
      "    \"This position will involve resolving complex issues that require ingenuity and creativity.\"\n",
      "  ],\n",
      "  \"Requirements\": [\n",
      "    \"Bachelor's Degree and 2 years of relevant exempt experience;\",\n",
      "    \"Master's Degree and 0 year of relevant professional experience.\",\n",
      "    \"Newport News Shipbuilding requires a Bachelor's Degree in engineering from an ABET accredited program.\",\n",
      "    \"- Excellent communication, both written and verbal.\",\n",
      "    \"- Critical thinking and problem solving skills.\",\n",
      "    \"- Excellent MS Office skills, including Word, PowerPoint, and Excel.\",\n",
      "    \"- Ability to work as a member of an interdisciplinary team.\",\n",
      "    \"- Experience with AutoCAD.\",\n",
      "    \"- Experience with Teamcenter/NX.\",\n",
      "    \"- Experience with MATLAB or MathCAD.\"\n",
      "  ],\n",
      "  \"Legal\": [\n",
      "    \"U.S. Citizenship may be required for certain positions.\",\n",
      "    \"All qualified applicants will receive consideration for employment without regard to race, color, religion, gender, gender identity or expression, sexual orientation, national origin, physical or mental disability, age, or veteran status or any other basis protected by federal, state, or local law.\",\n",
      "    \"If you need a reasonable accommodation for any part of the employment process, please send an e-mail to buildyourcareer@hii-co.com and let us know the nature of your request and your contact information.\",\n",
      "    \"Reasonable accommodations are considered on a case-by-case basis.\",\n",
      "    \"Please note that only those inquiries concerning a request for reasonable accommodation will be responded to from this e-mail address.\"\n",
      "  ]\n",
      "}\n",
      "```\n"
     ]
    }
   ],
   "source": [
    "print(result_df['Categorized_Posting'][9666])"
   ]
  },
  {
   "cell_type": "code",
   "execution_count": 31,
   "id": "8a521465-2438-45fb-ae2c-78b6453436ad",
   "metadata": {},
   "outputs": [
    {
     "name": "stdout",
     "output_type": "stream",
     "text": [
      "Defaulting to user installation because normal site-packages is not writeable\n",
      "Collecting fasttext\n",
      "  Downloading fasttext-0.9.3.tar.gz (73 kB)\n",
      "\u001b[2K     \u001b[38;2;114;156;31m━━━━━━━━━━━━━━━━━━━━━━━━━━━━━━━━━━━━━━━\u001b[0m \u001b[32m73.4/73.4 KB\u001b[0m \u001b[31m943.2 kB/s\u001b[0m eta \u001b[36m0:00:00\u001b[0m1m970.3 kB/s\u001b[0m eta \u001b[36m0:00:01\u001b[0m\n",
      "\u001b[?25h  Installing build dependencies ... \u001b[?25ldone\n",
      "\u001b[?25h  Getting requirements to build wheel ... \u001b[?25ldone\n",
      "\u001b[?25h  Preparing metadata (pyproject.toml) ... \u001b[?25ldone\n",
      "\u001b[?25hCollecting pybind11>=2.2\n",
      "  Using cached pybind11-2.13.6-py3-none-any.whl (243 kB)\n",
      "Requirement already satisfied: numpy in /home/iman/.local/lib/python3.10/site-packages (from fasttext) (2.0.1)\n",
      "Requirement already satisfied: setuptools>=0.7.0 in /usr/lib/python3/dist-packages (from fasttext) (59.6.0)\n",
      "Building wheels for collected packages: fasttext\n",
      "  Building wheel for fasttext (pyproject.toml) ... \u001b[?25ldone\n",
      "\u001b[?25h  Created wheel for fasttext: filename=fasttext-0.9.3-cp310-cp310-linux_x86_64.whl size=4296198 sha256=94e7bd5c47c7ee2ecfa7fedce38fdf2f93f734491ca8c00d1a735760c7514f68\n",
      "  Stored in directory: /home/iman/.cache/pip/wheels/0d/a2/00/81db54d3e6a8199b829d58e02cec2ddb20ce3e59fad8d3c92a\n",
      "Successfully built fasttext\n",
      "Installing collected packages: pybind11, fasttext\n",
      "Successfully installed fasttext-0.9.3 pybind11-2.13.6\n",
      "Note: you may need to restart the kernel to use updated packages.\n"
     ]
    }
   ],
   "source": [
    "pip install fasttext"
   ]
  },
  {
   "cell_type": "markdown",
   "id": "1ecf06ba-a6e7-4680-8d90-dd818f6f10bf",
   "metadata": {},
   "source": [
    "**Prepare the Data for FastText**"
   ]
  },
  {
   "cell_type": "markdown",
   "id": "cf0c5891-6a16-4faf-b6a7-ab4f3f0a8241",
   "metadata": {},
   "source": [
    "**Train the FastText Classifier**"
   ]
  },
  {
   "cell_type": "code",
   "execution_count": 6,
   "id": "757bb2b8-f1df-4075-9bad-971ac9ffb6fb",
   "metadata": {},
   "outputs": [],
   "source": [
    "data = pd.read_csv('output_file.csv')\n",
    "\n",
    "# Function to extract and format the data for FastText\n",
    "def extract_fasttext_format(row): \n",
    "    try: \n",
    "        # Parse the JSON from the Categorized_Posting column \n",
    "        categorized_data = json.loads(row['Categorized_Posting'].replace(\"```json\", \"\").replace(\"```\", \"\")) \n",
    "        fasttext_lines = [] \n",
    "        # Loop through each category and its sentences \n",
    "        for category, sentences in categorized_data.items(): \n",
    "            for sentence in sentences: \n",
    "                # Create a formatted line for FastText: __label__<category> <sentence> \n",
    "                fasttext_line = f\"__label__{category} {sentence.strip()}\" \n",
    "                fasttext_lines.append(fasttext_line) \n",
    "        return fasttext_lines \n",
    "    except json.JSONDecodeError: \n",
    "        return [] \n",
    "# Apply the function to each row and collect all the FastText-formatted lines\n",
    "fasttext_data = data.apply(extract_fasttext_format, axis=1)\n",
    "\n",
    "# Flatten the list of lists into one list containing all sentences with their labels\n",
    "all_sentences = [sentence for sublist in fasttext_data for sentence in sublist]\n",
    "\n",
    "# Step 2: Split the data into training and validation sets (80% train, 20% validation)\n",
    "train_data, valid_data = train_test_split(all_sentences, test_size=0.2, random_state=42)\n",
    "\n",
    "# Save the training and validation data to separate files for FastText training\n",
    "with open('fasttext_train.txt', 'w') as f:\n",
    "    for sentence in train_data:\n",
    "        f.write(sentence + '\\n')\n",
    "\n",
    "with open('fasttext_valid.txt', 'w') as f:\n",
    "    for sentence in valid_data:\n",
    "        f.write(sentence + '\\n')\n",
    "\n"
   ]
  },
  {
   "cell_type": "code",
   "execution_count": 7,
   "id": "8016c75f-db1c-4614-9e62-c265beccf7f3",
   "metadata": {},
   "outputs": [
    {
     "name": "stderr",
     "output_type": "stream",
     "text": [
      "Read 0M words\n",
      "Number of words:  19320\n",
      "Number of labels: 4\n",
      "Progress: 100.0% words/sec/thread:  243886 lr:  0.000000 avg.loss:  0.071652 ETA:   0h 0m 0s\n"
     ]
    },
    {
     "name": "stdout",
     "output_type": "stream",
     "text": [
      "Validation Results: Precision: 0.8888030888030888, Recall: 0.8888030888030888, Accuracy: 1.0\n"
     ]
    }
   ],
   "source": [
    "# Step 3: Train the FastText model on all labeled data (not just 'Description')\n",
    "model = fasttext.train_supervised(input=\"fasttext_train.txt\", epoch=25, lr=1.0, wordNgrams=2)\n",
    "\n",
    "# Step 4: Evaluate on the validation data\n",
    "result = model.test(\"fasttext_valid.txt\")\n",
    "print(f\"Validation Results: Precision: {result[1]}, Recall: {result[2]}, Accuracy: {result[0]/len(valid_data)}\")\n",
    "\n",
    "# Optional: Save the trained model\n",
    "model.save_model(\"job_description_classifier.bin\")"
   ]
  },
  {
   "cell_type": "markdown",
   "id": "da663176-88fa-482b-bbf8-c382f2209d48",
   "metadata": {},
   "source": [
    "**Mihili's Extracting Description Function**"
   ]
  },
  {
   "cell_type": "code",
   "execution_count": 13,
   "id": "57a4417e-724a-464f-8e5d-0fcecbd98925",
   "metadata": {},
   "outputs": [],
   "source": [
    "def extract_descriptions(job_description):\n",
    "    sentences = job_description.split('. ') \n",
    "    description_sentences = []\n",
    "    sentences = [sentence.strip() for sentence in sentences if sentence.strip()]\n",
    "    labels = model.predict(sentences)[0]  # Get the labels from the predictions\n",
    "\n",
    "    for sentence, label in zip(sentences, labels):\n",
    "        if label[0] == '__label__Description':  # Check if the label is 'Description'\n",
    "            description_sentences.append(sentence.replace('\\\\n', '\\n'))\n",
    "    \n",
    "    return description_sentences"
   ]
  },
  {
   "cell_type": "code",
   "execution_count": 15,
   "id": "aefc2478-04dc-49e2-a60b-8b49e689172d",
   "metadata": {},
   "outputs": [],
   "source": [
    "df_sentences = pd.DataFrame()\n",
    "df_sentences['ExtractedDescriptions'] = df['JobDescription'].apply(extract_descriptions)"
   ]
  },
  {
   "cell_type": "code",
   "execution_count": 20,
   "id": "9e74158e-df4f-408d-af07-ff5e7f6e41bb",
   "metadata": {},
   "outputs": [
    {
     "data": {
      "text/plain": [
       "['Find your future with us.\\n\\nJob Description\\n\\n**Boeing Commercial Airplanes**  is hiring a  **Propulsion Engineer (Associate, Mid-level and Experience)**  to support  **Propulsion System Engineering**  in the  **Puget Sound**  area of  **Washington** .\\n\\n**Boeing Commercial Airplanes (BCA)**  engineering designs, builds, certifies, delivers, and maintains products and services that provide superior safety, quality, and value to our airline customers',\n",
       " 'We are dedicated to safety, quality, innovation, and technical excellence in order to make our products, customers, and Boeing successful.\\n\\nOur Propulsion Organization is a world-class team of over 1000 engineers supporting our customers across the product life-cycle from product development to certification to fleet support',\n",
       " 'Our core organization supports all programs and ensures functional excellence, while our integrated Product Teams are co-located and support specific airplane programs',\n",
       " 'To turn dreams into reality']"
      ]
     },
     "execution_count": 20,
     "metadata": {},
     "output_type": "execute_result"
    }
   ],
   "source": [
    "df_sentences['ExtractedDescriptions'][2]\n"
   ]
  },
  {
   "cell_type": "code",
   "execution_count": null,
   "id": "cfa53200-c365-4051-8013-02e3f3e4b97a",
   "metadata": {},
   "outputs": [],
   "source": []
  }
 ],
 "metadata": {
  "kernelspec": {
   "display_name": "Python 3 (ipykernel)",
   "language": "python",
   "name": "python3"
  },
  "language_info": {
   "codemirror_mode": {
    "name": "ipython",
    "version": 3
   },
   "file_extension": ".py",
   "mimetype": "text/x-python",
   "name": "python",
   "nbconvert_exporter": "python",
   "pygments_lexer": "ipython3",
   "version": "3.10.12"
  }
 },
 "nbformat": 4,
 "nbformat_minor": 5
}
