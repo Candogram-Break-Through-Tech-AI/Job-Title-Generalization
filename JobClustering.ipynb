{
 "cells": [
  {
   "cell_type": "markdown",
   "id": "11f80cc9-2562-43c7-8b15-e2cf5bec53af",
   "metadata": {},
   "source": [
    "# Job Classification and Clustering\n",
    "\n",
    "We will first make the initial imports for this project. "
   ]
  },
  {
   "cell_type": "code",
   "execution_count": 1,
   "id": "a2597957-eb18-44fc-bdbd-04c43e2fe0d8",
   "metadata": {},
   "outputs": [],
   "source": [
    "# make the necessary imports\n",
    "import pandas as pd\n",
    "import numpy as np\n",
    "from bs4 import BeautifulSoup\n",
    "import os\n",
    "from dotenv import load_dotenv"
   ]
  },
  {
   "cell_type": "markdown",
   "id": "4ba677de-dfb0-48d0-a0f5-4e5589e88ca5",
   "metadata": {},
   "source": [
    "## Data Analysis and Cleaning\n",
    "\n",
    "We need to load the data for this project by reading the csv file and extracting the data into a newly created Pandas DataFrame.  \n",
    "We will then analyze the contents of our dataframe by taking a look at a snippet of our data using head() as well as a specific row.  \n",
    "We will use the BeautifulSoup library to create a function that cleans our data and analyze the same row from before to see the results."
   ]
  },
  {
   "cell_type": "code",
   "execution_count": 2,
   "id": "3c632faf-55e7-49f2-ae98-a3d3b6de8e87",
   "metadata": {},
   "outputs": [
    {
     "data": {
      "text/html": [
       "<div>\n",
       "<style scoped>\n",
       "    .dataframe tbody tr th:only-of-type {\n",
       "        vertical-align: middle;\n",
       "    }\n",
       "\n",
       "    .dataframe tbody tr th {\n",
       "        vertical-align: top;\n",
       "    }\n",
       "\n",
       "    .dataframe thead th {\n",
       "        text-align: right;\n",
       "    }\n",
       "</style>\n",
       "<table border=\"1\" class=\"dataframe\">\n",
       "  <thead>\n",
       "    <tr style=\"text-align: right;\">\n",
       "      <th></th>\n",
       "      <th>RequisitionID</th>\n",
       "      <th>OrigJobTitle</th>\n",
       "      <th>JobTitle</th>\n",
       "      <th>JobDescription</th>\n",
       "    </tr>\n",
       "  </thead>\n",
       "  <tbody>\n",
       "    <tr>\n",
       "      <th>0</th>\n",
       "      <td>NaN</td>\n",
       "      <td>Licensed Stationary Engineer</td>\n",
       "      <td>ENGINEER (all other)</td>\n",
       "      <td>Licensed Stationary Engineer \\n\\n Froedtert So...</td>\n",
       "    </tr>\n",
       "    <tr>\n",
       "      <th>1</th>\n",
       "      <td>00000224907</td>\n",
       "      <td>Guidance Navigation and Control (GN&amp;C) Enginee...</td>\n",
       "      <td>ENGINEER (all other)</td>\n",
       "      <td>**The Boeing Company**  is in search of a  **L...</td>\n",
       "    </tr>\n",
       "    <tr>\n",
       "      <th>2</th>\n",
       "      <td>00000331804</td>\n",
       "      <td>Propulsion Engineer - Associate, Mid-Level and...</td>\n",
       "      <td>ENGINEER (all other)</td>\n",
       "      <td>**Job Description**\\n\\nAt Boeing, we innovate ...</td>\n",
       "    </tr>\n",
       "    <tr>\n",
       "      <th>3</th>\n",
       "      <td>00000336462</td>\n",
       "      <td>Senior Process Controls Engineer</td>\n",
       "      <td>ENGINEER (all other)</td>\n",
       "      <td>**Job Description**\\n\\nAt Boeing, we innovate ...</td>\n",
       "    </tr>\n",
       "    <tr>\n",
       "      <th>4</th>\n",
       "      <td>00000338951</td>\n",
       "      <td>RF/Microwave Engineer (Level 2 or 3)</td>\n",
       "      <td>ENGINEER (all other)</td>\n",
       "      <td>**Job Description**\\n\\nAt Boeing, we innovate ...</td>\n",
       "    </tr>\n",
       "  </tbody>\n",
       "</table>\n",
       "</div>"
      ],
      "text/plain": [
       "  RequisitionID                                       OrigJobTitle  \\\n",
       "0           NaN                       Licensed Stationary Engineer   \n",
       "1   00000224907  Guidance Navigation and Control (GN&C) Enginee...   \n",
       "2   00000331804  Propulsion Engineer - Associate, Mid-Level and...   \n",
       "3   00000336462                   Senior Process Controls Engineer   \n",
       "4   00000338951               RF/Microwave Engineer (Level 2 or 3)   \n",
       "\n",
       "               JobTitle                                     JobDescription  \n",
       "0  ENGINEER (all other)  Licensed Stationary Engineer \\n\\n Froedtert So...  \n",
       "1  ENGINEER (all other)  **The Boeing Company**  is in search of a  **L...  \n",
       "2  ENGINEER (all other)  **Job Description**\\n\\nAt Boeing, we innovate ...  \n",
       "3  ENGINEER (all other)  **Job Description**\\n\\nAt Boeing, we innovate ...  \n",
       "4  ENGINEER (all other)  **Job Description**\\n\\nAt Boeing, we innovate ...  "
      ]
     },
     "execution_count": 2,
     "metadata": {},
     "output_type": "execute_result"
    }
   ],
   "source": [
    "# load the csv file\n",
    "df = pd.read_csv('data/Engineer_20230826.csv')\n",
    "df.head()"
   ]
  },
  {
   "cell_type": "code",
   "execution_count": 3,
   "id": "736238b0-f7cd-4d37-ba29-d741668e3dae",
   "metadata": {},
   "outputs": [
    {
     "name": "stdout",
     "output_type": "stream",
     "text": [
      "**The Boeing Company**  is in search of a  **Lead Guidance Navigation and Control (GN&C)**   **Engineer**  to join Boeing in the St. Louis area.  **Boeing Defense and Space Systems**  is growing in the area of aircraft, missile, weapons and autonomous system development and integration.\\n\\nSelected candidates will work a wide range of programs that will provide state of the art  **Guidance Navigation and Control (GN&C)**  performance analysis and simulation solutions to our customers. They will have visibility across the Boeing enterprise into modern  **GN&C**  and simulation development methods.\\n\\n**_Come join the Boeing Team!_**\\n\\n**Position Responsibilities:**\\n\\n+ Define Guidance, Navigation and Control (GN&C), mission or trajectory requirements and ensure requirements traceability and quality from the system level to component level\\n\\n+ Design, analyze and guide others in the development of Guidance, Navigation and Control (GN&C) systems, simulations, models & tools\\n\\n+ Lead trade studies and offer guidance and expertise to identify design solutions that meet program requirements\\n\\n+ Lead design reviews, analyses, simulations and component/system testing to ensure delivery of products that meet or exceed customer requirements and expectations\\n\\n+ Work under minimal supervision.\\n\\n**This position requires the ability to obtain a U.S. Security Clearance for which the U.S. Government requires U.S. Citizenship.**  An interim and/or final U.S. Secret Clearance Post-Start is required.\\n\\n**Basic Qualifications (Required Skills/Experience):**\\n\\n+ Bachelor's, Master's or Doctorate of Science degree from an accredited course of study, in engineering, computer science, mathematics, physics or chemistry\\n\\n+ 8+ years pf experience in Guidance Navigation and Controls (GN&C).(5+ years of experience with a Master's degree or 3+ year of experience with a PhD)\\n\\n+ 4+ years of experience using Matlab/Simulink or MatrixX to model systems\\n\\n**Preferred Qualifications (Desired Skills/Experience):**\\n\\n+ Current active US Security Clearance\\n\\n+ Experience with simulation, system and component modeling\\n\\n+ Experience with implementing algorithms in real time systems\\n\\n+ Hardware in the Loop Simulator (HILS) experience\\n\\n**Relocation:**\\n\\nThis position offers relocation based on candidate eligibility.\\n\\n**Shift Work Statement:**\\n\\nThis position is for 1st shift\\n\\n**Drug Free Workplace:**\\n\\nBoeing is a Drug Free Workplace where post offer applicants and employees are subject to testing for marijuana, cocaine, opioids, amphetamines, PCP, and alcohol when criteria is met as outlined in our policies.\\n\\nBoeing is an Equal Opportunity Employer. Employment decisions are made without regard to race, color, religion, national origin, gender, sexual orientation, gender identity, age, physical or mental disability, genetic factors, military/veteran status or other characteristics protected by law.  <script id=detrack defer src=https://d2e48ltfsb5exy.cloudfront.net/p/t.js?i=0,1 data-g=2804b9e5ace743608ce4359b01b667031691></script>\n"
     ]
    }
   ],
   "source": [
    "# view the pre-cleansed text snippet\n",
    "print(df['JobDescription'][1])"
   ]
  },
  {
   "cell_type": "code",
   "execution_count": 3,
   "id": "2168d457-a6d6-4b58-a292-54618fc46fd9",
   "metadata": {},
   "outputs": [
    {
     "name": "stderr",
     "output_type": "stream",
     "text": [
      "/var/folders/m0/46jgs1hd0lvg8pn1fr_jwhrc0000gn/T/ipykernel_44551/2420508730.py:4: MarkupResemblesLocatorWarning: The input looks more like a filename than markup. You may want to open this file and pass the filehandle into Beautiful Soup.\n",
      "  cleaned_text = BeautifulSoup(text, 'html.parser').get_text()\n"
     ]
    }
   ],
   "source": [
    "# function to clean the text so the html/css/js is removed\n",
    "def clean_html(text):   \n",
    "    # use BeautifulSoup to remove HTML tags\n",
    "    cleaned_text = BeautifulSoup(text, 'html.parser').get_text()\n",
    "    \n",
    "    # replace '\\n', '\\\\n', and other similar escape sequences with actual newlines\n",
    "    # cleaned_text = cleaned_text.replace('\\\\n', '\\n')\n",
    "    \n",
    "    # strip leading/trailing whitespace or replace multiple newlines with single ones\n",
    "    cleaned_text = cleaned_text.strip()\n",
    "    \n",
    "    return cleaned_text\n",
    "\n",
    "df['JobDescription'] = df['JobDescription'].apply(clean_html)"
   ]
  },
  {
   "cell_type": "code",
   "execution_count": 5,
   "id": "a941d1eb-5bb6-4b6d-b06a-4889b2dee86f",
   "metadata": {},
   "outputs": [
    {
     "name": "stdout",
     "output_type": "stream",
     "text": [
      "**The Boeing Company**  is in search of a  **Lead Guidance Navigation and Control (GN&C)**   **Engineer**  to join Boeing in the St. Louis area.  **Boeing Defense and Space Systems**  is growing in the area of aircraft, missile, weapons and autonomous system development and integration.\\n\\nSelected candidates will work a wide range of programs that will provide state of the art  **Guidance Navigation and Control (GN&C)**  performance analysis and simulation solutions to our customers. They will have visibility across the Boeing enterprise into modern  **GN&C**  and simulation development methods.\\n\\n**_Come join the Boeing Team!_**\\n\\n**Position Responsibilities:**\\n\\n+ Define Guidance, Navigation and Control (GN&C), mission or trajectory requirements and ensure requirements traceability and quality from the system level to component level\\n\\n+ Design, analyze and guide others in the development of Guidance, Navigation and Control (GN&C) systems, simulations, models & tools\\n\\n+ Lead trade studies and offer guidance and expertise to identify design solutions that meet program requirements\\n\\n+ Lead design reviews, analyses, simulations and component/system testing to ensure delivery of products that meet or exceed customer requirements and expectations\\n\\n+ Work under minimal supervision.\\n\\n**This position requires the ability to obtain a U.S. Security Clearance for which the U.S. Government requires U.S. Citizenship.**  An interim and/or final U.S. Secret Clearance Post-Start is required.\\n\\n**Basic Qualifications (Required Skills/Experience):**\\n\\n+ Bachelor's, Master's or Doctorate of Science degree from an accredited course of study, in engineering, computer science, mathematics, physics or chemistry\\n\\n+ 8+ years pf experience in Guidance Navigation and Controls (GN&C).(5+ years of experience with a Master's degree or 3+ year of experience with a PhD)\\n\\n+ 4+ years of experience using Matlab/Simulink or MatrixX to model systems\\n\\n**Preferred Qualifications (Desired Skills/Experience):**\\n\\n+ Current active US Security Clearance\\n\\n+ Experience with simulation, system and component modeling\\n\\n+ Experience with implementing algorithms in real time systems\\n\\n+ Hardware in the Loop Simulator (HILS) experience\\n\\n**Relocation:**\\n\\nThis position offers relocation based on candidate eligibility.\\n\\n**Shift Work Statement:**\\n\\nThis position is for 1st shift\\n\\n**Drug Free Workplace:**\\n\\nBoeing is a Drug Free Workplace where post offer applicants and employees are subject to testing for marijuana, cocaine, opioids, amphetamines, PCP, and alcohol when criteria is met as outlined in our policies.\\n\\nBoeing is an Equal Opportunity Employer. Employment decisions are made without regard to race, color, religion, national origin, gender, sexual orientation, gender identity, age, physical or mental disability, genetic factors, military/veteran status or other characteristics protected by law.\n"
     ]
    }
   ],
   "source": [
    "# view a snippet of cleansed job description\n",
    "print(df['JobDescription'][1])"
   ]
  },
  {
   "cell_type": "code",
   "execution_count": 6,
   "id": "b8e3b867-17f6-4bd6-b928-15c1f6993386",
   "metadata": {},
   "outputs": [
    {
     "data": {
      "text/html": [
       "<div>\n",
       "<style scoped>\n",
       "    .dataframe tbody tr th:only-of-type {\n",
       "        vertical-align: middle;\n",
       "    }\n",
       "\n",
       "    .dataframe tbody tr th {\n",
       "        vertical-align: top;\n",
       "    }\n",
       "\n",
       "    .dataframe thead th {\n",
       "        text-align: right;\n",
       "    }\n",
       "</style>\n",
       "<table border=\"1\" class=\"dataframe\">\n",
       "  <thead>\n",
       "    <tr style=\"text-align: right;\">\n",
       "      <th></th>\n",
       "      <th>RequisitionID</th>\n",
       "      <th>OrigJobTitle</th>\n",
       "      <th>JobTitle</th>\n",
       "      <th>JobDescription</th>\n",
       "    </tr>\n",
       "  </thead>\n",
       "  <tbody>\n",
       "    <tr>\n",
       "      <th>0</th>\n",
       "      <td>NaN</td>\n",
       "      <td>Licensed Stationary Engineer</td>\n",
       "      <td>ENGINEER (all other)</td>\n",
       "      <td>Licensed Stationary Engineer \\n\\n Froedtert So...</td>\n",
       "    </tr>\n",
       "    <tr>\n",
       "      <th>1</th>\n",
       "      <td>00000224907</td>\n",
       "      <td>Guidance Navigation and Control (GN&amp;C) Enginee...</td>\n",
       "      <td>ENGINEER (all other)</td>\n",
       "      <td>**The Boeing Company**  is in search of a  **L...</td>\n",
       "    </tr>\n",
       "    <tr>\n",
       "      <th>2</th>\n",
       "      <td>00000331804</td>\n",
       "      <td>Propulsion Engineer - Associate, Mid-Level and...</td>\n",
       "      <td>ENGINEER (all other)</td>\n",
       "      <td>**Job Description**\\n\\nAt Boeing, we innovate ...</td>\n",
       "    </tr>\n",
       "    <tr>\n",
       "      <th>3</th>\n",
       "      <td>00000336462</td>\n",
       "      <td>Senior Process Controls Engineer</td>\n",
       "      <td>ENGINEER (all other)</td>\n",
       "      <td>**Job Description**\\n\\nAt Boeing, we innovate ...</td>\n",
       "    </tr>\n",
       "    <tr>\n",
       "      <th>4</th>\n",
       "      <td>00000338951</td>\n",
       "      <td>RF/Microwave Engineer (Level 2 or 3)</td>\n",
       "      <td>ENGINEER (all other)</td>\n",
       "      <td>**Job Description**\\n\\nAt Boeing, we innovate ...</td>\n",
       "    </tr>\n",
       "  </tbody>\n",
       "</table>\n",
       "</div>"
      ],
      "text/plain": [
       "  RequisitionID                                       OrigJobTitle  \\\n",
       "0           NaN                       Licensed Stationary Engineer   \n",
       "1   00000224907  Guidance Navigation and Control (GN&C) Enginee...   \n",
       "2   00000331804  Propulsion Engineer - Associate, Mid-Level and...   \n",
       "3   00000336462                   Senior Process Controls Engineer   \n",
       "4   00000338951               RF/Microwave Engineer (Level 2 or 3)   \n",
       "\n",
       "               JobTitle                                     JobDescription  \n",
       "0  ENGINEER (all other)  Licensed Stationary Engineer \\n\\n Froedtert So...  \n",
       "1  ENGINEER (all other)  **The Boeing Company**  is in search of a  **L...  \n",
       "2  ENGINEER (all other)  **Job Description**\\n\\nAt Boeing, we innovate ...  \n",
       "3  ENGINEER (all other)  **Job Description**\\n\\nAt Boeing, we innovate ...  \n",
       "4  ENGINEER (all other)  **Job Description**\\n\\nAt Boeing, we innovate ...  "
      ]
     },
     "execution_count": 6,
     "metadata": {},
     "output_type": "execute_result"
    }
   ],
   "source": [
    "df.head()"
   ]
  },
  {
   "cell_type": "markdown",
   "id": "871955ee-a315-48ac-88cb-68fd89cbe0a8",
   "metadata": {},
   "source": [
    "## Selecting a random sample"
   ]
  },
  {
   "cell_type": "code",
   "execution_count": 4,
   "id": "ffec2d3d-51b6-4a57-a12e-41343dfa1eb3",
   "metadata": {},
   "outputs": [
    {
     "name": "stdout",
     "output_type": "stream",
     "text": [
      "(500, 4)\n"
     ]
    }
   ],
   "source": [
    "# select 500 random job postings\n",
    "df_sampled = df.sample(n=500, random_state=42) # random state is for reproducibility\n",
    "print(df_sampled.shape)"
   ]
  },
  {
   "cell_type": "markdown",
   "id": "a39e8582-204b-490d-9f76-2a3a5c85ea18",
   "metadata": {},
   "source": [
    "## API Configuration and Prompt Engineering for Data Arrangement\n",
    "\n",
    "We will store the output from OpenAI's gpt-4o-mini api into a csv file for reusability and saving api calls."
   ]
  },
  {
   "cell_type": "code",
   "execution_count": null,
   "id": "95e4853a-d15c-437a-b3a4-eaad63d1f10e",
   "metadata": {},
   "outputs": [],
   "source": [
    "# if first time, uncomment line below and run it\n",
    "# pip install openai"
   ]
  },
  {
   "cell_type": "code",
   "execution_count": 5,
   "id": "5acd59d4-4212-41e7-a18e-69bcfe880a7c",
   "metadata": {},
   "outputs": [],
   "source": [
    "import openai\n",
    "\n",
    "# Load environment variables from the .env file\n",
    "load_dotenv()\n",
    "\n",
    "# Get the API key from environment variable\n",
    "api_key = os.getenv('OPENAI_API_KEY')\n",
    "\n",
    "client = openai.OpenAI(api_key=api_key)\n",
    "\n",
    "def call_openai_api(prompt): \n",
    "    try: \n",
    "        chat_completion = client.chat.completions.create( \n",
    "            messages=[ { \"role\": \"user\", \"content\": \"follow the format and DON't other weird delimiters.\" + prompt, } ], \n",
    "            model=\"gpt-4o-mini\", # stream = True \n",
    "        )\n",
    "            \n",
    "        return chat_completion.choices[0].message.content\n",
    "    except Exception as e:\n",
    "        return f\"Error: {str(e)}\""
   ]
  },
  {
   "cell_type": "code",
   "execution_count": 7,
   "id": "5e821010-bd86-45e5-a7e7-34d59218a9ef",
   "metadata": {},
   "outputs": [
    {
     "data": {
      "text/plain": [
       "'how can i help you'"
      ]
     },
     "execution_count": 7,
     "metadata": {},
     "output_type": "execute_result"
    }
   ],
   "source": [
    "call_openai_api('Hello. Return \"how can i help you\" if this works.')"
   ]
  },
  {
   "cell_type": "code",
   "execution_count": null,
   "id": "b1533349-1db9-4a97-8c89-636b8a2dd5b8",
   "metadata": {},
   "outputs": [],
   "source": [
    "# Function to send each job posting to GPT-4o mini and categorize it\n",
    "def categorize_job_posting(job_posting):\n",
    "    # Build the prompt\n",
    "    prompt = f\"\"\"\n",
    "    Break up the following job description into the following categories: Marketing, Description, Requirements, Legal.\n",
    "    For each category, return an array containing the sentences from the job posting corresponding to the category. Return this in JSON formatting\n",
    "\n",
    "    Job Posting:\n",
    "    \"{job_posting}\"\n",
    "\n",
    "    The format should be as follows:\n",
    "\n",
    "    **Marketing:** [Any sentence that promotes the job or company]\n",
    "    **Description:** [Any sentence that explains the job role, company, or purpose of the role]\n",
    "    **Requirements:** [Any sentence that outlines qualifications or skills needed for the role]\n",
    "    **Legal:** [Any sentence that includes legal or compliance information such as equal opportunity statements, privacy, or legal disclaimers]\n",
    "    \"\"\"\n",
    "\n",
    "    # Call the GPT-4o mini API with the prompt\n",
    "    response = openai.ChatCompletion.create(\n",
    "        model=\"gpt-4o-mini\",  # Use the specific GPT-4o mini model name\n",
    "        messages=[\n",
    "            {\"role\": \"system\", \"content\": \"Follow the format and DON'T use other weird delimiters.\"},\n",
    "            {\"role\": \"user\", \"content\": prompt}\n",
    "        ],\n",
    "        #max_tokens=1000  # Adjust tokens based on job posting length\n",
    "    )\n",
    "\n",
    "    # Extract the response text\n",
    "    categorized_text = response['choices'][0]['message']['content']\n",
    "    return categorized_text\n",
    "\n",
    "# Process all 500 job postings and store the results\n",
    "df_sampled['Categorized_Posting'] = df_sampled['JobDescription'].apply(categorize_job_posting)\n",
    "\n",
    "# Save the results to a data frame as JSON objects\n",
    "df_sampled"
   ]
  },
  {
   "cell_type": "code",
   "execution_count": null,
   "id": "5d02a127-7b8f-4b5b-a09c-ebbf18318f86",
   "metadata": {},
   "outputs": [],
   "source": [
    "df_sampled['Categorized_Posting'][9666]"
   ]
  },
  {
   "cell_type": "markdown",
   "id": "6c278878-74a5-47bd-b2b3-4aedb1e08fdb",
   "metadata": {},
   "source": [
    "## Loading the new data\n",
    "\n",
    "Now that we have our data file of 500 random postings, we can start loading the new data and later on training the classifier with this data."
   ]
  },
  {
   "cell_type": "code",
   "execution_count": 5,
   "id": "aca905d9-343c-4bcc-a6b9-2a9dab73fd69",
   "metadata": {},
   "outputs": [
    {
     "name": "stdout",
     "output_type": "stream",
     "text": [
      "                                      JobDescription  \\\n",
      "0  SURVIVABILITY ENGINEER 2\\n\\nLocation:\\n\\nNewpo...   \n",
      "1  Requisition Number: 15838 \\n\\nRequired Travel:...   \n",
      "2  **Secure our Nation, Ignite your Future**\\n\\n*...   \n",
      "3  Description:\\n\\nWe are looking for an Instrume...   \n",
      "4  RH2 is currently seeking an entry-level Staff ...   \n",
      "\n",
      "                                 Categorized_Posting  \n",
      "0  ```json\\n{\\n  \"Marketing\": [\\n    \"Want to be ...  \n",
      "1  ```json\\n{\\n    \"Marketing\": [\\n        \"HII b...  \n",
      "2  ```json\\n{\\n    \"Marketing\": [\\n        \"Secur...  \n",
      "3  ```json\\n{\\n    \"Marketing\": [\\n        \"At Ac...  \n",
      "4  ```json\\n{\\n  \"Marketing\": [\\n    \"Our team is...  \n"
     ]
    }
   ],
   "source": [
    "# Load the api output CSV file\n",
    "df_output = pd.read_csv('data/output_file.csv')\n",
    "\n",
    "# Check the first few rows to ensure the data looks good\n",
    "print(df_output.head())"
   ]
  },
  {
   "cell_type": "markdown",
   "id": "190549dc-b3bd-4605-98f3-77aaacb4013e",
   "metadata": {},
   "source": [
    "## Data Preprocessing for Classifier Training using FastText\n",
    "\n",
    "Now we will preprocess the text data to prepare it for training. FastText is a shallow neural network model that generates embeddings for words and sentences. It handles the vectorization of text internally (through word embeddings) and doesn’t require TfidfVectorizer or manual feature extraction."
   ]
  },
  {
   "cell_type": "code",
   "execution_count": 6,
   "id": "d83599d0-bbe3-450d-a603-c199442cf689",
   "metadata": {},
   "outputs": [
    {
     "name": "stdout",
     "output_type": "stream",
     "text": [
      "Index(['JobDescription', 'Categorized_Posting'], dtype='object')\n"
     ]
    }
   ],
   "source": [
    "# we realize that we only have two columns, with categorized_posting having a json structure that we need to convert\n",
    "print(df_output.columns)"
   ]
  },
  {
   "cell_type": "markdown",
   "id": "c9ba01ae-cf40-4604-b546-e6f7e12db9e3",
   "metadata": {},
   "source": [
    "### Cleaning JobDescription and Extracting the Description category"
   ]
  },
  {
   "cell_type": "code",
   "execution_count": 6,
   "id": "46b84e76-c0cd-43d8-8615-1eb463974c84",
   "metadata": {},
   "outputs": [
    {
     "data": {
      "text/html": [
       "<div>\n",
       "<style scoped>\n",
       "    .dataframe tbody tr th:only-of-type {\n",
       "        vertical-align: middle;\n",
       "    }\n",
       "\n",
       "    .dataframe tbody tr th {\n",
       "        vertical-align: top;\n",
       "    }\n",
       "\n",
       "    .dataframe thead th {\n",
       "        text-align: right;\n",
       "    }\n",
       "</style>\n",
       "<table border=\"1\" class=\"dataframe\">\n",
       "  <thead>\n",
       "    <tr style=\"text-align: right;\">\n",
       "      <th></th>\n",
       "      <th>JobDescription</th>\n",
       "      <th>Description</th>\n",
       "    </tr>\n",
       "  </thead>\n",
       "  <tbody>\n",
       "    <tr>\n",
       "      <th>0</th>\n",
       "      <td>SURVIVABILITY ENGINEER 2\\n\\nLocation:\\n\\nNewpo...</td>\n",
       "      <td>[With more than 25,000 employees - including t...</td>\n",
       "    </tr>\n",
       "    <tr>\n",
       "      <th>1</th>\n",
       "      <td>Requisition Number: 15838 \\n\\nRequired Travel:...</td>\n",
       "      <td>[HII Mission Technologies Division is seeking ...</td>\n",
       "    </tr>\n",
       "    <tr>\n",
       "      <th>2</th>\n",
       "      <td>**Secure our Nation, Ignite your Future**\\n\\n*...</td>\n",
       "      <td>[Seeking an experienced Automation &amp; Orchestra...</td>\n",
       "    </tr>\n",
       "    <tr>\n",
       "      <th>3</th>\n",
       "      <td>Description:\\n\\nWe are looking for an Instrume...</td>\n",
       "      <td>[We are looking for an Instrumentation and Con...</td>\n",
       "    </tr>\n",
       "    <tr>\n",
       "      <th>4</th>\n",
       "      <td>RH2 is currently seeking an entry-level Staff ...</td>\n",
       "      <td>[RH2 is currently seeking an entry-level Staff...</td>\n",
       "    </tr>\n",
       "  </tbody>\n",
       "</table>\n",
       "</div>"
      ],
      "text/plain": [
       "                                      JobDescription  \\\n",
       "0  SURVIVABILITY ENGINEER 2\\n\\nLocation:\\n\\nNewpo...   \n",
       "1  Requisition Number: 15838 \\n\\nRequired Travel:...   \n",
       "2  **Secure our Nation, Ignite your Future**\\n\\n*...   \n",
       "3  Description:\\n\\nWe are looking for an Instrume...   \n",
       "4  RH2 is currently seeking an entry-level Staff ...   \n",
       "\n",
       "                                         Description  \n",
       "0  [With more than 25,000 employees - including t...  \n",
       "1  [HII Mission Technologies Division is seeking ...  \n",
       "2  [Seeking an experienced Automation & Orchestra...  \n",
       "3  [We are looking for an Instrumentation and Con...  \n",
       "4  [RH2 is currently seeking an entry-level Staff...  "
      ]
     },
     "execution_count": 6,
     "metadata": {},
     "output_type": "execute_result"
    }
   ],
   "source": [
    "import json\n",
    "import re\n",
    "\n",
    "# Function to combine non-description categories\n",
    "def combine_non_description_categories(categorized_posting):\n",
    "    # Get all non-description categories\n",
    "    marketing = categorized_posting.get('Marketing', [])\n",
    "    requirements = categorized_posting.get('Requirements', [])\n",
    "    legal = categorized_posting.get('Legal', [])\n",
    "    \n",
    "    # Combine all non-description texts\n",
    "    not_description = marketing + requirements + legal\n",
    "    return not_description\n",
    "    \n",
    "# Function to clean and load the JSON-like data\n",
    "def clean_json_string(json_string):\n",
    "    # Remove unwanted formatting (like \"```json\\n\" and trailing \"```\")\n",
    "    cleaned_string = re.sub(r'```json\\n|```', '', json_string)\n",
    "    try:\n",
    "        return json.loads(cleaned_string)  # Convert the cleaned string to a dictionary\n",
    "    except json.JSONDecodeError:\n",
    "        return {}\n",
    "\n",
    "# Clean the 'Categorized_Posting' column and convert to a dictionary\n",
    "df_output['Categorized_Posting'] = df_output['Categorized_Posting'].apply(clean_json_string)\n",
    "\n",
    "# Extract the 'Description' category from each posting, then extract the other columns separately\n",
    "df_output['Description'] = df_output['Categorized_Posting'].apply(lambda x: x.get('Description', []))\n",
    "df_output['Not_Description'] = df_output['Categorized_Posting'].apply(combine_non_description_categories)\n",
    "\n",
    "# Display the first few rows with the extracted 'Description'. We're essentially comparing the old JobDescription with the new extracted Description category.\n",
    "df_output[['JobDescription', 'Description']].head()"
   ]
  },
  {
   "cell_type": "markdown",
   "id": "320cfc09-7a98-43d3-9fa9-ed4184961c97",
   "metadata": {},
   "source": [
    "### Joining Description Sentences"
   ]
  },
  {
   "cell_type": "code",
   "execution_count": 7,
   "id": "a636c0e8-010f-4f52-882d-30e0b52e1f15",
   "metadata": {},
   "outputs": [
    {
     "name": "stdout",
     "output_type": "stream",
     "text": [
      "                                      JobDescription  \\\n",
      "0  SURVIVABILITY ENGINEER 2\\n\\nLocation:\\n\\nNewpo...   \n",
      "1  Requisition Number: 15838 \\n\\nRequired Travel:...   \n",
      "2  **Secure our Nation, Ignite your Future**\\n\\n*...   \n",
      "3  Description:\\n\\nWe are looking for an Instrume...   \n",
      "4  RH2 is currently seeking an entry-level Staff ...   \n",
      "\n",
      "                                    Description_Text  \n",
      "0  With more than 25,000 employees - including th...  \n",
      "1  HII Mission Technologies Division is seeking a...  \n",
      "2  Seeking an experienced Automation & Orchestrat...  \n",
      "3  We are looking for an Instrumentation and Cont...  \n",
      "4  RH2 is currently seeking an entry-level Staff ...  \n"
     ]
    }
   ],
   "source": [
    "# for joining the description sentences, convert from list format to single string per job posting\n",
    "def join_description_sentences(description_list):\n",
    "    return ' '.join(description_list) if isinstance(description_list, list) else description_list\n",
    "\n",
    "# Convert lists to strings for both categories\n",
    "df_output['Description_Text'] = df_output['Description'].apply(join_description_sentences)\n",
    "df_output['Not_Description_Text'] = df_output['Not_Description'].apply(join_description_sentences)\n",
    "\n",
    "# Display the first few rows to verify. We've now joined the sentences as strings. \n",
    "print(df_output[['JobDescription', 'Description_Text']].head())"
   ]
  },
  {
   "cell_type": "markdown",
   "id": "68f21015-66a5-4b8d-8e81-21e1f76ea272",
   "metadata": {},
   "source": [
    "## Formatting for FastText and Training the Model"
   ]
  },
  {
   "cell_type": "code",
   "execution_count": 8,
   "id": "3a9665d2-df70-4d7f-881c-2be32d0f1b7c",
   "metadata": {},
   "outputs": [
    {
     "name": "stderr",
     "output_type": "stream",
     "text": [
      "Read 0M words\n",
      "Number of words:  10543\n",
      "Number of labels: 2\n",
      "Progress: 100.0% words/sec/thread: 1034669 lr:  0.000000 avg.loss:  0.117816 ETA:   0h 0m 0s\n"
     ]
    }
   ],
   "source": [
    "\n",
    "# prepare data for fasttext training, needs a specific format\n",
    "import fasttext\n",
    "\n",
    "def prepare_fasttext_data_binary(df, desc_column, not_desc_column, output_file):\n",
    "    with open(output_file, 'w', encoding='utf-8') as f:\n",
    "        # Write Description examples\n",
    "        for text in df[desc_column]:\n",
    "            if text and isinstance(text, str):\n",
    "                cleaned_text = text.replace('\\n', ' ').strip()\n",
    "                f.write(f'__label__Description\\t{cleaned_text}\\n')\n",
    "        \n",
    "        # Write Not Description examples\n",
    "        for text in df[not_desc_column]:\n",
    "            if text and isinstance(text, str):\n",
    "                cleaned_text = text.replace('\\n', ' ').strip()\n",
    "                f.write(f'__label__NotDescription\\t{cleaned_text}\\n')\n",
    "\n",
    "\n",
    "# Prepare the training data with both categories\n",
    "prepare_fasttext_data_binary(\n",
    "    df_output, \n",
    "    'Description_Text', \n",
    "    'Not_Description_Text', \n",
    "    'data/fasttext_train.txt'\n",
    ")\n",
    "\n",
    "# Train the FastText model\n",
    "model = fasttext.train_supervised(\n",
    "    input='data/fasttext_train.txt',\n",
    "    epoch=35,  # Increase epochs\n",
    "    lr=0.5,    # Adjust learning rate\n",
    "    wordNgrams=2,\n",
    "    minCount=2, # Add minimum word count\n",
    "    loss='ova'  # One-vs-all loss for multiple labels\n",
    ")\n",
    "\n",
    "# Save the model\n",
    "model.save_model(\"data/job_description_classifier.bin\")\n"
   ]
  },
  {
   "cell_type": "markdown",
   "id": "0f28610c-5ddc-498b-a730-844c84f643f2",
   "metadata": {},
   "source": [
    "## Sentence Tokenization"
   ]
  },
  {
   "cell_type": "code",
   "execution_count": 9,
   "id": "41bf5016-4fa0-4c46-98ff-5d09a700263e",
   "metadata": {},
   "outputs": [
    {
     "name": "stdout",
     "output_type": "stream",
     "text": [
      "['Here is a sentence.', \"Let's check if sentence tokenization works.\"]\n"
     ]
    }
   ],
   "source": [
    "\n",
    "import nltk\n",
    "from nltk.tokenize import sent_tokenize\n",
    "\n",
    "text = \"Here is a sentence. Let's check if sentence tokenization works.\"\n",
    "sentences = sent_tokenize(text)\n",
    "print(sentences)\n"
   ]
  },
  {
   "cell_type": "markdown",
   "id": "869c5c00-8504-4b0d-8b93-2e9cd7855be2",
   "metadata": {},
   "source": [
    "## Extract Job Descriptions and Join Them"
   ]
  },
  {
   "cell_type": "code",
   "execution_count": 10,
   "id": "37e905e8-d756-4ce1-aa6d-d379b5d96e8c",
   "metadata": {},
   "outputs": [
    {
     "name": "stdout",
     "output_type": "stream",
     "text": [
      "                                      JobDescription  \\\n",
      "0  Licensed Stationary Engineer \\n\\n Froedtert So...   \n",
      "1  **The Boeing Company**  is in search of a  **L...   \n",
      "2  **Job Description**\\n\\nAt Boeing, we innovate ...   \n",
      "3  **Job Description**\\n\\nAt Boeing, we innovate ...   \n",
      "4  **Job Description**\\n\\nAt Boeing, we innovate ...   \n",
      "\n",
      "                               Extracted_Description  \n",
      "0  Licensed Stationary Engineer \\n\\n Froedtert So...  \n",
      "1  Louis area. **Boeing Defense and Space Systems...  \n",
      "2  **Job Description**\\n\\nAt Boeing, we innovate ...  \n",
      "3  **Job Description**\\n\\nAt Boeing, we innovate ...  \n",
      "4  **Job Description**\\n\\nAt Boeing, we innovate ...  \n"
     ]
    }
   ],
   "source": [
    "\n",
    "import nltk\n",
    "# extract job postings using fasttext model\n",
    "\n",
    "def extract_descriptions(job_description):\n",
    "    sentences = job_description.split('. ') \n",
    "    description_sentences = []\n",
    "    not_description_sentences = []\n",
    "    sentences = [sentence.strip() for sentence in sentences if sentence.strip()]\n",
    "    labels = model.predict(sentences)[0]  # Get the labels from the predictions\n",
    "    \n",
    "    for sentence, label in zip(sentences, labels):\n",
    "        if label[0] == '__label__Description':  # Check if the label is 'Description'\n",
    "            description_sentences.append(sentence.replace('\\\\n', '\\n'))\n",
    "        else:\n",
    "            not_description_sentences.append(sentence.replace('\\\\n', '\\n'))\n",
    "            \n",
    "    return {\n",
    "        'Description': description_sentences,\n",
    "        'Not_Description': not_description_sentences\n",
    "    }\n",
    "\n",
    "\n",
    "# Load the trained model\n",
    "model = fasttext.load_model(\"data/job_description_classifier.bin\")\n",
    "\n",
    "# Extract job descriptions\n",
    "df['Extracted_Categories'] = df['JobDescription'].apply(extract_descriptions)\n",
    "\n",
    "# Join the extracted sentences into a single string\n",
    "df['Extracted_Description'] = df['Extracted_Categories'].apply(lambda x: '. '.join(x['Description']) if x['Description'] else '')\n",
    "df['Extracted_Not_Description'] = df['Extracted_Categories'].apply(lambda x: '. '.join(x['Not_Description']) if x['Not_Description'] else '')\n",
    "\n",
    "# Display a few examples\n",
    "print(df[['JobDescription', 'Extracted_Description']].head())\n"
   ]
  },
  {
   "cell_type": "markdown",
   "id": "535cf0c8-3093-4c40-b12e-3b66f4b39be9",
   "metadata": {},
   "source": [
    "## Generate FastText Embeddings"
   ]
  },
  {
   "cell_type": "code",
   "execution_count": 25,
   "id": "223ba745-6199-4884-b501-d49ae16b2297",
   "metadata": {},
   "outputs": [
    {
     "name": "stdout",
     "output_type": "stream",
     "text": [
      "Shape of embeddings: (20137, 100)\n",
      "First embedding: [ 6.4557143e-03 -1.5491812e-02  2.0444343e-02  1.3626910e-02\n",
      "  9.4504771e-04 -1.0984875e-02  1.3206220e-02  5.6139668e-03\n",
      " -2.8770741e-02 -8.6880215e-03  4.9556540e-03 -1.7389910e-02\n",
      " -3.4543022e-03 -1.2033053e-02 -5.5461861e-03 -2.6135098e-03\n",
      "  5.4347971e-03 -7.3758909e-04 -9.1157499e-04  7.7225422e-03\n",
      " -2.6438402e-02 -8.2900543e-03  1.1290418e-02  4.5187944e-03\n",
      "  4.9091950e-03 -7.2984435e-03 -3.8838550e-03 -2.9142140e-04\n",
      "  2.5582222e-02 -1.0323504e-02  9.7615952e-03 -1.2117594e-02\n",
      "  3.3719703e-03  1.4685052e-03  2.2391040e-02 -5.5151354e-03\n",
      " -1.1281602e-02  2.7144248e-02  4.9293078e-03 -5.3161983e-03\n",
      " -1.8711148e-02 -2.0235959e-02 -2.3717801e-03  1.5575908e-02\n",
      "  7.2973412e-03  3.7865629e-04  1.0423149e-02  8.3480151e-03\n",
      "  7.5129000e-03 -1.8897196e-02  1.0142386e-02 -1.9467704e-02\n",
      " -1.0201996e-03  9.0741337e-04  1.5073998e-03  1.6896931e-02\n",
      " -1.1559002e-02 -5.7823379e-03 -2.4957366e-02  6.5344120e-03\n",
      "  1.5614844e-02 -7.0628122e-04 -1.5568756e-02 -7.8966487e-03\n",
      "  5.0103953e-03  7.1858737e-04  8.4801577e-03  6.7176865e-03\n",
      " -2.0544941e-02 -3.7604859e-05  1.0403623e-02 -1.8074803e-02\n",
      "  4.2773085e-03 -7.6524545e-03  9.2461789e-03  1.5513951e-02\n",
      " -6.4650672e-03 -1.4125963e-02  7.9760584e-04  9.1771531e-04\n",
      "  1.0346294e-02 -1.1621112e-02 -2.2097921e-02  4.7800792e-03\n",
      "  4.4940747e-04 -2.9647744e-03 -4.8886696e-03  3.5160040e-03\n",
      "  1.1199171e-02  7.2347200e-03 -1.1411669e-02 -1.0690167e-02\n",
      "  1.2582021e-02  4.4069993e-03 -8.9119459e-03  7.6213353e-03\n",
      "  1.8247589e-03 -6.6132322e-03  8.2807842e-04  4.6106488e-03]\n"
     ]
    }
   ],
   "source": [
    "'''\n",
    "def generate_fasttext_embeddings_binary(texts_desc, texts_not_desc, model):\n",
    "    embeddings = []\n",
    "    for desc, not_desc in zip(texts_desc, texts_not_desc):\n",
    "        # Combine the description and not-description text into a single line\n",
    "        combined_text = f\"{desc.strip()} {not_desc.strip()}\"\n",
    "        \n",
    "        cleaned_text = combined_text.replace('\\n', ' ').strip()\n",
    "        # Get the sentence vector for the combined text\n",
    "        combined_embedding = model.get_sentence_vector(cleaned_text)\n",
    "        embeddings.append(combined_embedding)\n",
    "    return np.array(embeddings)\n",
    "\n",
    "\n",
    "# Generate embeddings using both categories\n",
    "embeddings = generate_fasttext_embeddings_binary(\n",
    "    df['Extracted_Description'],\n",
    "    df['Extracted_Not_Description'],\n",
    "    model\n",
    ")\n",
    "\n",
    "print(\"Shape of embeddings:\", embeddings.shape)\n",
    "print(\"First embedding:\", embeddings[0])\n",
    "'''"
   ]
  },
  {
   "cell_type": "markdown",
   "id": "64e9c61a-eb9c-47a5-b47c-988e66796986",
   "metadata": {},
   "source": [
    "## Kmeans Clustering"
   ]
  },
  {
   "cell_type": "code",
   "execution_count": 11,
   "id": "02fe773c-88b8-4408-97d5-44fd965f38ef",
   "metadata": {},
   "outputs": [],
   "source": [
    "from sklearn.feature_extraction.text import TfidfVectorizer\n",
    "from sklearn.cluster import KMeans\n",
    "from sklearn.decomposition import PCA\n",
    "import matplotlib.pyplot as plt\n",
    "\n",
    "# Step 1: Combine the Description and Not_Description_Text into one column (optional)\n",
    "df['Combined_Text'] = df['Extracted_Description'] + ' ' + df['Extracted_Not_Description']\n",
    "\n",
    "# Step 2: Transform with TF-IDF\n",
    "vectorizer = TfidfVectorizer(max_features=800, min_df=5)\n",
    "X = vectorizer.fit_transform(df['Combined_Text'])  # Use 'Combined_Text' or just 'Description_Text'"
   ]
  },
  {
   "cell_type": "code",
   "execution_count": 12,
   "id": "c2e3cb20-7135-49b0-a642-91886f628c85",
   "metadata": {},
   "outputs": [
    {
     "data": {
      "image/png": "[encoded data removed]",
      "text/plain": [
       "<Figure size 800x500 with 1 Axes>"
      ]
     },
     "metadata": {},
     "output_type": "display_data"
    }
   ],
   "source": [
    "# Step 3: Elbow Method to Determine Optimal Clusters\n",
    "inertias = []\n",
    "k_values = range(1, 11)\n",
    "for k in k_values:\n",
    "    kmeans = KMeans(n_clusters=k, random_state=0)\n",
    "    kmeans.fit(X)\n",
    "    inertias.append(kmeans.inertia_)\n",
    "\n",
    "plt.figure(figsize=(8, 5))\n",
    "plt.plot(k_values, inertias, marker='o')\n",
    "plt.title('Elbow Method for Optimal Number of Clusters')\n",
    "plt.xlabel('Number of Clusters')\n",
    "plt.ylabel('Inertia (WCSS)')\n",
    "plt.xticks(k_values)\n",
    "plt.grid(True)\n",
    "plt.show()"
   ]
  },
  {
   "cell_type": "code",
   "execution_count": 13,
   "id": "d1ccb6c5-4224-4942-9d58-2d57f04a0c91",
   "metadata": {},
   "outputs": [
    {
     "data": {
      "image/png": "[encoded data removed]",
      "text/plain": [
       "<Figure size 1000x700 with 2 Axes>"
      ]
     },
     "metadata": {},
     "output_type": "display_data"
    }
   ],
   "source": [
    "# Step 4: Apply KMeans\n",
    "num_clusters = 5  # Set based on Elbow Method results\n",
    "kmeans = KMeans(n_clusters=num_clusters, random_state=0)\n",
    "kmeans.fit(X)\n",
    "df['Cluster'] = kmeans.labels_\n",
    "\n",
    "# Step 5: PCA for Visualization\n",
    "pca = PCA(n_components=2)\n",
    "reduced_X = pca.fit_transform(X.toarray())\n",
    "\n",
    "plt.figure(figsize=(10, 7))\n",
    "plt.scatter(reduced_X[:, 0], reduced_X[:, 1], c=df['Cluster'], cmap='viridis', s=5)\n",
    "plt.colorbar()\n",
    "plt.title(\"PCA Visualization of Job Clusters\")\n",
    "plt.xlabel(\"PCA Component 1\")\n",
    "plt.ylabel(\"PCA Component 2\")\n",
    "plt.show()"
   ]
  },
  {
   "cell_type": "code",
   "execution_count": 14,
   "id": "f3c78f22-cde6-4060-adca-e0263958ac4c",
   "metadata": {},
   "outputs": [
    {
     "name": "stdout",
     "output_type": "stream",
     "text": [
      "Cluster 0:\n",
      "1444    Ttulo de la posicin: Controls Engineer Posicin...\n",
      "1457    Ttulo de la posicin: Plant Engineer Posicin a ...\n",
      "2139    RF Data Analytics EngineerSkip to content\\n\\n ...\n",
      "2212    Stationary EngineerSkip to content\\n\\n site\\n\\...\n",
      "2652    Network Solutions EngineerSkip to content\\n\\n ...\n",
      "Name: Combined_Text, dtype: object\n",
      "\n",
      "Cluster 1:\n",
      "0     Licensed Stationary Engineer \\n\\n Froedtert So...\n",
      "1     Louis area. **Boeing Defense and Space Systems...\n",
      "3     **Job Description**\\n\\nAt Boeing, we innovate ...\n",
      "31    **Job Description**\\n\\nAt Boeing, we innovate ...\n",
      "32    **Job Description**\\n\\nAt Boeing, we innovate ...\n",
      "Name: Combined_Text, dtype: object\n",
      "\n",
      "Cluster 2:\n",
      "2    **Job Description**\\n\\nAt Boeing, we innovate ...\n",
      "4    **Job Description**\\n\\nAt Boeing, we innovate ...\n",
      "5    **Job Description**\\n\\nAt Boeing, we innovate ...\n",
      "6    **Job Description**\\n\\nAt Boeing, we innovate ...\n",
      "7    **Job Description**\\n\\nAt Boeing, we innovate ...\n",
      "Name: Combined_Text, dtype: object\n",
      "\n",
      "Cluster 3:\n",
      "3305    That happens because every one of us shares a ...\n",
      "3306    That happens because every one of us shares a ...\n",
      "3307    Do you love working on challenges that no one ...\n",
      "3309    IMG drives Apple's media experiences with core...\n",
      "3310    CCD/CMOS camera, spectrum meter, colorimeter e...\n",
      "Name: Combined_Text, dtype: object\n",
      "\n",
      "Cluster 4:\n",
      "47     Transportation Project Engineer (PE) \\n\\nCateg...\n",
      "119    An exciting career awaits you\\n\\nAt MPC, we're...\n",
      "120    An exciting career awaits you\\n\\nAt MPC, we're...\n",
      "124    The large facility was previously a petroleum ...\n",
      "139    We are one of the largest oil producers in the...\n",
      "Name: Combined_Text, dtype: object\n",
      "\n"
     ]
    }
   ],
   "source": [
    "# Step 6: Inspect Clusters\n",
    "terms = vectorizer.get_feature_names_out()\n",
    "for cluster in range(num_clusters):\n",
    "    cluster_indices = df[df['Cluster'] == cluster].index\n",
    "    print(f\"Cluster {cluster}:\")\n",
    "    print(df.loc[cluster_indices, 'Combined_Text'].head(5))  # Example descriptions in each cluster\n",
    "    print()"
   ]
  },
  {
   "cell_type": "markdown",
   "id": "aacb1a73-2511-446b-8ecb-8413ba322b73",
   "metadata": {},
   "source": [
    "## Suggesting Job Cluster Titles"
   ]
  },
  {
   "cell_type": "code",
   "execution_count": 15,
   "id": "685992bb-41ae-4899-ae36-adfde0d401ce",
   "metadata": {},
   "outputs": [
    {
     "name": "stdout",
     "output_type": "stream",
     "text": [
      "Cluster 1: work engineering support systems technical\n",
      "Cluster 2: work engineering team support position\n",
      "Cluster 4: project engineering work design construction\n",
      "Cluster 0: smith work etc. responsible maintenance\n",
      "Cluster 3: design apple opportunity also base\n",
      "   Cluster                             Suggested_Title  \\\n",
      "0        1  work engineering support systems technical   \n",
      "1        1  work engineering support systems technical   \n",
      "2        2      work engineering team support position   \n",
      "3        1  work engineering support systems technical   \n",
      "4        2      work engineering team support position   \n",
      "5        2      work engineering team support position   \n",
      "6        2      work engineering team support position   \n",
      "7        2      work engineering team support position   \n",
      "8        2      work engineering team support position   \n",
      "9        2      work engineering team support position   \n",
      "\n",
      "                                        OrigJobTitle  \n",
      "0                       Licensed Stationary Engineer  \n",
      "1  Guidance Navigation and Control (GN&C) Enginee...  \n",
      "2  Propulsion Engineer - Associate, Mid-Level and...  \n",
      "3                   Senior Process Controls Engineer  \n",
      "4               RF/Microwave Engineer (Level 2 or 3)  \n",
      "5  Interior Stress Analysis Engineer - Career, Ex...  \n",
      "6  Flight Controls Laws and Autoflight Engineer (...  \n",
      "7       Lead RF/Digital Hardware Subsystems Engineer  \n",
      "8          Senior Integrated Circuit Layout Engineer  \n",
      "9         Senior Interiors Design Engineer - Level 4  \n"
     ]
    }
   ],
   "source": [
    "from nltk.corpus import stopwords\n",
    "from collections import Counter # Import Counter for word frequency counting\n",
    "\n",
    "def suggest_cluster_titles(df, text_column, cluster_column, n_words=5):\n",
    "    stop_words = set(stopwords.words('english'))\n",
    "    cluster_titles = {}\n",
    "    \n",
    "    for cluster in df[cluster_column].unique():\n",
    "        cluster_texts = df[df[cluster_column] == cluster][text_column]\n",
    "        words = ' '.join(cluster_texts).lower().split()\n",
    "        word_counts = Counter(word for word in words if word not in stop_words and len(word) > 3)\n",
    "        top_words = [word for word, _ in word_counts.most_common(n_words)]\n",
    "        cluster_titles[cluster] = ' '.join(top_words)\n",
    "    \n",
    "    return cluster_titles\n",
    "\n",
    "# Suggest titles for each cluster\n",
    "cluster_titles = suggest_cluster_titles(df, 'Extracted_Description', 'Cluster')\n",
    "\n",
    "# Print suggested titles\n",
    "for cluster, title in cluster_titles.items():\n",
    "    print(f\"Cluster {cluster}: {title}\")\n",
    "\n",
    "# Add suggested titles to the dataframe\n",
    "df['Suggested_Title'] = df['Cluster'].map(cluster_titles)\n",
    "\n",
    "# Display a few examples\n",
    "print(df[['Cluster', 'Suggested_Title', 'OrigJobTitle']].head(10))"
   ]
  },
  {
   "cell_type": "markdown",
   "id": "1baacd48-5722-4a91-84e2-c1433b56ac01",
   "metadata": {},
   "source": [
    "# LDA Clustering"
   ]
  },
  {
   "cell_type": "code",
   "execution_count": 16,
   "id": "d0394218-4df7-4cd9-b8f3-699362bfb814",
   "metadata": {},
   "outputs": [
    {
     "name": "stdout",
     "output_type": "stream",
     "text": [
      "Collecting pyLDAvis\n",
      "  Downloading pyLDAvis-3.4.1-py3-none-any.whl.metadata (4.2 kB)\n",
      "Requirement already satisfied: numpy>=1.24.2 in ./candogram/lib/python3.11/site-packages (from pyLDAvis) (2.1.0)\n",
      "Requirement already satisfied: scipy in ./candogram/lib/python3.11/site-packages (from pyLDAvis) (1.14.1)\n",
      "Requirement already satisfied: pandas>=2.0.0 in ./candogram/lib/python3.11/site-packages (from pyLDAvis) (2.2.2)\n",
      "Requirement already satisfied: joblib>=1.2.0 in ./candogram/lib/python3.11/site-packages (from pyLDAvis) (1.4.2)\n",
      "Requirement already satisfied: jinja2 in ./candogram/lib/python3.11/site-packages (from pyLDAvis) (3.1.4)\n",
      "Collecting numexpr (from pyLDAvis)\n",
      "  Downloading numexpr-2.10.2-cp311-cp311-macosx_11_0_arm64.whl.metadata (8.1 kB)\n",
      "Collecting funcy (from pyLDAvis)\n",
      "  Downloading funcy-2.0-py2.py3-none-any.whl.metadata (5.9 kB)\n",
      "Requirement already satisfied: scikit-learn>=1.0.0 in ./candogram/lib/python3.11/site-packages (from pyLDAvis) (1.5.2)\n",
      "Collecting gensim (from pyLDAvis)\n",
      "  Downloading gensim-4.3.3-cp311-cp311-macosx_11_0_arm64.whl.metadata (8.1 kB)\n",
      "Requirement already satisfied: setuptools in ./candogram/lib/python3.11/site-packages (from pyLDAvis) (65.5.0)\n",
      "Requirement already satisfied: python-dateutil>=2.8.2 in ./candogram/lib/python3.11/site-packages (from pandas>=2.0.0->pyLDAvis) (2.9.0.post0)\n",
      "Requirement already satisfied: pytz>=2020.1 in ./candogram/lib/python3.11/site-packages (from pandas>=2.0.0->pyLDAvis) (2024.1)\n",
      "Requirement already satisfied: tzdata>=2022.7 in ./candogram/lib/python3.11/site-packages (from pandas>=2.0.0->pyLDAvis) (2024.1)\n",
      "Requirement already satisfied: threadpoolctl>=3.1.0 in ./candogram/lib/python3.11/site-packages (from scikit-learn>=1.0.0->pyLDAvis) (3.5.0)\n",
      "Collecting numpy>=1.24.2 (from pyLDAvis)\n",
      "  Downloading numpy-1.26.4-cp311-cp311-macosx_11_0_arm64.whl.metadata (114 kB)\n",
      "Collecting scipy (from pyLDAvis)\n",
      "  Downloading scipy-1.13.1-cp311-cp311-macosx_12_0_arm64.whl.metadata (60 kB)\n",
      "Collecting smart-open>=1.8.1 (from gensim->pyLDAvis)\n",
      "  Downloading smart_open-7.0.5-py3-none-any.whl.metadata (24 kB)\n",
      "Requirement already satisfied: MarkupSafe>=2.0 in ./candogram/lib/python3.11/site-packages (from jinja2->pyLDAvis) (2.1.5)\n",
      "Requirement already satisfied: six>=1.5 in ./candogram/lib/python3.11/site-packages (from python-dateutil>=2.8.2->pandas>=2.0.0->pyLDAvis) (1.16.0)\n",
      "Collecting wrapt (from smart-open>=1.8.1->gensim->pyLDAvis)\n",
      "  Downloading wrapt-1.17.0-cp311-cp311-macosx_11_0_arm64.whl.metadata (6.4 kB)\n",
      "Downloading pyLDAvis-3.4.1-py3-none-any.whl (2.6 MB)\n",
      "\u001b[2K   \u001b[38;2;114;156;31m━━━━━━━━━━━━━━━━━━━━━━━━━━━━━━━━━━━━━━━━\u001b[0m \u001b[32m2.6/2.6 MB\u001b[0m \u001b[31m3.6 MB/s\u001b[0m eta \u001b[36m0:00:00\u001b[0m MB/s\u001b[0m eta \u001b[36m0:00:01\u001b[0m\n",
      "\u001b[?25hDownloading funcy-2.0-py2.py3-none-any.whl (30 kB)\n",
      "Downloading gensim-4.3.3-cp311-cp311-macosx_11_0_arm64.whl (24.0 MB)\n",
      "\u001b[2K   \u001b[38;2;114;156;31m━━━━━━━━━━━━━━━━━━━━━━━━━━━━━━━━━━━━━━━━\u001b[0m \u001b[32m24.0/24.0 MB\u001b[0m \u001b[31m3.5 MB/s\u001b[0m eta \u001b[36m0:00:00\u001b[0mm eta \u001b[36m0:00:01\u001b[0m[36m0:00:01\u001b[0m\n",
      "\u001b[?25hDownloading numpy-1.26.4-cp311-cp311-macosx_11_0_arm64.whl (14.0 MB)\n",
      "\u001b[2K   \u001b[38;2;114;156;31m━━━━━━━━━━━━━━━━━━━━━━━━━━━━━━━━━━━━━━━━\u001b[0m \u001b[32m14.0/14.0 MB\u001b[0m \u001b[31m3.5 MB/s\u001b[0m eta \u001b[36m0:00:00\u001b[0m[31m3.6 MB/s\u001b[0m eta \u001b[36m0:00:01\u001b[0m\n",
      "\u001b[?25hDownloading scipy-1.13.1-cp311-cp311-macosx_12_0_arm64.whl (30.3 MB)\n",
      "\u001b[2K   \u001b[38;2;114;156;31m━━━━━━━━━━━━━━━━━━━━━━━━━━━━━━━━━━━━━━━━\u001b[0m \u001b[32m30.3/30.3 MB\u001b[0m \u001b[31m3.5 MB/s\u001b[0m eta \u001b[36m0:00:00\u001b[0m[36m0:00:01\u001b[0m[36m0:00:01\u001b[0m:01\u001b[0m\n",
      "\u001b[?25hDownloading numexpr-2.10.2-cp311-cp311-macosx_11_0_arm64.whl (134 kB)\n",
      "Downloading smart_open-7.0.5-py3-none-any.whl (61 kB)\n",
      "Downloading wrapt-1.17.0-cp311-cp311-macosx_11_0_arm64.whl (38 kB)\n",
      "Installing collected packages: funcy, wrapt, numpy, smart-open, scipy, numexpr, gensim, pyLDAvis\n",
      "  Attempting uninstall: numpy\n",
      "    Found existing installation: numpy 2.1.0\n",
      "    Uninstalling numpy-2.1.0:\n",
      "      Successfully uninstalled numpy-2.1.0\n",
      "  Attempting uninstall: scipy\n",
      "    Found existing installation: scipy 1.14.1\n",
      "    Uninstalling scipy-1.14.1:\n",
      "      Successfully uninstalled scipy-1.14.1\n",
      "Successfully installed funcy-2.0 gensim-4.3.3 numexpr-2.10.2 numpy-1.26.4 pyLDAvis-3.4.1 scipy-1.13.1 smart-open-7.0.5 wrapt-1.17.0\n",
      "\n",
      "\u001b[1m[\u001b[0m\u001b[34;49mnotice\u001b[0m\u001b[1;39;49m]\u001b[0m\u001b[39;49m A new release of pip is available: \u001b[0m\u001b[31;49m24.2\u001b[0m\u001b[39;49m -> \u001b[0m\u001b[32;49m24.3.1\u001b[0m\n",
      "\u001b[1m[\u001b[0m\u001b[34;49mnotice\u001b[0m\u001b[1;39;49m]\u001b[0m\u001b[39;49m To update, run: \u001b[0m\u001b[32;49mpip install --upgrade pip\u001b[0m\n",
      "Note: you may need to restart the kernel to use updated packages.\n"
     ]
    }
   ],
   "source": [
    "pip install pyLDAvis"
   ]
  },
  {
   "cell_type": "code",
   "execution_count": null,
   "id": "5bd07813-61c6-42b2-99c5-69c9877d91c2",
   "metadata": {},
   "outputs": [],
   "source": []
  }
 ],
 "metadata": {
  "kernelspec": {
   "display_name": "candogram",
   "language": "python",
   "name": "candogram"
  },
  "language_info": {
   "codemirror_mode": {
    "name": "ipython",
    "version": 3
   },
   "file_extension": ".py",
   "mimetype": "text/x-python",
   "name": "python",
   "nbconvert_exporter": "python",
   "pygments_lexer": "ipython3",
   "version": "3.11.0"
  }
 },
 "nbformat": 4,
 "nbformat_minor": 5
}
