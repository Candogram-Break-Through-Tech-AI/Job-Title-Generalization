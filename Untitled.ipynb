{
 "cells": [
  {
   "cell_type": "code",
   "execution_count": 1,
   "id": "a2597957-eb18-44fc-bdbd-04c43e2fe0d8",
   "metadata": {},
   "outputs": [],
   "source": [
    "# make the necessary imports\n",
    "import pandas as pd\n",
    "import numpy as np\n",
    "from bs4 import BeautifulSoup\n",
    "import os\n",
    "from dotenv import load_dotenv\n",
    "from tqdm import tqdm"
   ]
  },
  {
   "cell_type": "code",
   "execution_count": 2,
   "id": "3c632faf-55e7-49f2-ae98-a3d3b6de8e87",
   "metadata": {},
   "outputs": [
    {
     "data": {
      "text/html": [
       "<div>\n",
       "<style scoped>\n",
       "    .dataframe tbody tr th:only-of-type {\n",
       "        vertical-align: middle;\n",
       "    }\n",
       "\n",
       "    .dataframe tbody tr th {\n",
       "        vertical-align: top;\n",
       "    }\n",
       "\n",
       "    .dataframe thead th {\n",
       "        text-align: right;\n",
       "    }\n",
       "</style>\n",
       "<table border=\"1\" class=\"dataframe\">\n",
       "  <thead>\n",
       "    <tr style=\"text-align: right;\">\n",
       "      <th></th>\n",
       "      <th>RequisitionID</th>\n",
       "      <th>OrigJobTitle</th>\n",
       "      <th>JobTitle</th>\n",
       "      <th>JobDescription</th>\n",
       "    </tr>\n",
       "  </thead>\n",
       "  <tbody>\n",
       "    <tr>\n",
       "      <th>0</th>\n",
       "      <td>NaN</td>\n",
       "      <td>Licensed Stationary Engineer</td>\n",
       "      <td>ENGINEER (all other)</td>\n",
       "      <td>Licensed Stationary Engineer \\n\\n Froedtert So...</td>\n",
       "    </tr>\n",
       "    <tr>\n",
       "      <th>1</th>\n",
       "      <td>00000224907</td>\n",
       "      <td>Guidance Navigation and Control (GN&amp;C) Enginee...</td>\n",
       "      <td>ENGINEER (all other)</td>\n",
       "      <td>**The Boeing Company**  is in search of a  **L...</td>\n",
       "    </tr>\n",
       "    <tr>\n",
       "      <th>2</th>\n",
       "      <td>00000331804</td>\n",
       "      <td>Propulsion Engineer - Associate, Mid-Level and...</td>\n",
       "      <td>ENGINEER (all other)</td>\n",
       "      <td>**Job Description**\\n\\nAt Boeing, we innovate ...</td>\n",
       "    </tr>\n",
       "    <tr>\n",
       "      <th>3</th>\n",
       "      <td>00000336462</td>\n",
       "      <td>Senior Process Controls Engineer</td>\n",
       "      <td>ENGINEER (all other)</td>\n",
       "      <td>**Job Description**\\n\\nAt Boeing, we innovate ...</td>\n",
       "    </tr>\n",
       "    <tr>\n",
       "      <th>4</th>\n",
       "      <td>00000338951</td>\n",
       "      <td>RF/Microwave Engineer (Level 2 or 3)</td>\n",
       "      <td>ENGINEER (all other)</td>\n",
       "      <td>**Job Description**\\n\\nAt Boeing, we innovate ...</td>\n",
       "    </tr>\n",
       "  </tbody>\n",
       "</table>\n",
       "</div>"
      ],
      "text/plain": [
       "  RequisitionID                                       OrigJobTitle  \\\n",
       "0           NaN                       Licensed Stationary Engineer   \n",
       "1   00000224907  Guidance Navigation and Control (GN&C) Enginee...   \n",
       "2   00000331804  Propulsion Engineer - Associate, Mid-Level and...   \n",
       "3   00000336462                   Senior Process Controls Engineer   \n",
       "4   00000338951               RF/Microwave Engineer (Level 2 or 3)   \n",
       "\n",
       "               JobTitle                                     JobDescription  \n",
       "0  ENGINEER (all other)  Licensed Stationary Engineer \\n\\n Froedtert So...  \n",
       "1  ENGINEER (all other)  **The Boeing Company**  is in search of a  **L...  \n",
       "2  ENGINEER (all other)  **Job Description**\\n\\nAt Boeing, we innovate ...  \n",
       "3  ENGINEER (all other)  **Job Description**\\n\\nAt Boeing, we innovate ...  \n",
       "4  ENGINEER (all other)  **Job Description**\\n\\nAt Boeing, we innovate ...  "
      ]
     },
     "execution_count": 2,
     "metadata": {},
     "output_type": "execute_result"
    }
   ],
   "source": [
    "# load the csv file\n",
    "df = pd.read_csv('data/Engineer_20230826.csv')\n",
    "df.head()"
   ]
  },
  {
   "cell_type": "code",
   "execution_count": 3,
   "id": "736238b0-f7cd-4d37-ba29-d741668e3dae",
   "metadata": {},
   "outputs": [
    {
     "name": "stdout",
     "output_type": "stream",
     "text": [
      "**The Boeing Company**  is in search of a  **Lead Guidance Navigation and Control (GN&C)**   **Engineer**  to join Boeing in the St. Louis area.  **Boeing Defense and Space Systems**  is growing in the area of aircraft, missile, weapons and autonomous system development and integration.\\n\\nSelected candidates will work a wide range of programs that will provide state of the art  **Guidance Navigation and Control (GN&C)**  performance analysis and simulation solutions to our customers. They will have visibility across the Boeing enterprise into modern  **GN&C**  and simulation development methods.\\n\\n**_Come join the Boeing Team!_**\\n\\n**Position Responsibilities:**\\n\\n+ Define Guidance, Navigation and Control (GN&C), mission or trajectory requirements and ensure requirements traceability and quality from the system level to component level\\n\\n+ Design, analyze and guide others in the development of Guidance, Navigation and Control (GN&C) systems, simulations, models & tools\\n\\n+ Lead trade studies and offer guidance and expertise to identify design solutions that meet program requirements\\n\\n+ Lead design reviews, analyses, simulations and component/system testing to ensure delivery of products that meet or exceed customer requirements and expectations\\n\\n+ Work under minimal supervision.\\n\\n**This position requires the ability to obtain a U.S. Security Clearance for which the U.S. Government requires U.S. Citizenship.**  An interim and/or final U.S. Secret Clearance Post-Start is required.\\n\\n**Basic Qualifications (Required Skills/Experience):**\\n\\n+ Bachelor's, Master's or Doctorate of Science degree from an accredited course of study, in engineering, computer science, mathematics, physics or chemistry\\n\\n+ 8+ years pf experience in Guidance Navigation and Controls (GN&C).(5+ years of experience with a Master's degree or 3+ year of experience with a PhD)\\n\\n+ 4+ years of experience using Matlab/Simulink or MatrixX to model systems\\n\\n**Preferred Qualifications (Desired Skills/Experience):**\\n\\n+ Current active US Security Clearance\\n\\n+ Experience with simulation, system and component modeling\\n\\n+ Experience with implementing algorithms in real time systems\\n\\n+ Hardware in the Loop Simulator (HILS) experience\\n\\n**Relocation:**\\n\\nThis position offers relocation based on candidate eligibility.\\n\\n**Shift Work Statement:**\\n\\nThis position is for 1st shift\\n\\n**Drug Free Workplace:**\\n\\nBoeing is a Drug Free Workplace where post offer applicants and employees are subject to testing for marijuana, cocaine, opioids, amphetamines, PCP, and alcohol when criteria is met as outlined in our policies.\\n\\nBoeing is an Equal Opportunity Employer. Employment decisions are made without regard to race, color, religion, national origin, gender, sexual orientation, gender identity, age, physical or mental disability, genetic factors, military/veteran status or other characteristics protected by law.  <script id=detrack defer src=https://d2e48ltfsb5exy.cloudfront.net/p/t.js?i=0,1 data-g=2804b9e5ace743608ce4359b01b667031691></script>\n"
     ]
    }
   ],
   "source": [
    "# view the pre-cleansed text snippet\n",
    "print(df['JobDescription'][1])"
   ]
  },
  {
   "cell_type": "code",
   "execution_count": 3,
   "id": "2168d457-a6d6-4b58-a292-54618fc46fd9",
   "metadata": {},
   "outputs": [
    {
     "name": "stderr",
     "output_type": "stream",
     "text": [
      "/var/folders/m0/46jgs1hd0lvg8pn1fr_jwhrc0000gn/T/ipykernel_58827/2420508730.py:4: MarkupResemblesLocatorWarning: The input looks more like a filename than markup. You may want to open this file and pass the filehandle into Beautiful Soup.\n",
      "  cleaned_text = BeautifulSoup(text, 'html.parser').get_text()\n"
     ]
    }
   ],
   "source": [
    "# function to clean the text so the html/css/js is removed\n",
    "def clean_html(text):   \n",
    "    # use BeautifulSoup to remove HTML tags\n",
    "    cleaned_text = BeautifulSoup(text, 'html.parser').get_text()\n",
    "    \n",
    "    # replace '\\n', '\\\\n', and other similar escape sequences with actual newlines\n",
    "    # cleaned_text = cleaned_text.replace('\\\\n', '\\n')\n",
    "    \n",
    "    # strip leading/trailing whitespace or replace multiple newlines with single ones\n",
    "    cleaned_text = cleaned_text.strip()\n",
    "    \n",
    "    return cleaned_text\n",
    "\n",
    "df['JobDescription'] = df['JobDescription'].apply(clean_html)"
   ]
  },
  {
   "cell_type": "code",
   "execution_count": 5,
   "id": "a941d1eb-5bb6-4b6d-b06a-4889b2dee86f",
   "metadata": {},
   "outputs": [
    {
     "name": "stdout",
     "output_type": "stream",
     "text": [
      "**The Boeing Company**  is in search of a  **Lead Guidance Navigation and Control (GN&C)**   **Engineer**  to join Boeing in the St. Louis area.  **Boeing Defense and Space Systems**  is growing in the area of aircraft, missile, weapons and autonomous system development and integration.\\n\\nSelected candidates will work a wide range of programs that will provide state of the art  **Guidance Navigation and Control (GN&C)**  performance analysis and simulation solutions to our customers. They will have visibility across the Boeing enterprise into modern  **GN&C**  and simulation development methods.\\n\\n**_Come join the Boeing Team!_**\\n\\n**Position Responsibilities:**\\n\\n+ Define Guidance, Navigation and Control (GN&C), mission or trajectory requirements and ensure requirements traceability and quality from the system level to component level\\n\\n+ Design, analyze and guide others in the development of Guidance, Navigation and Control (GN&C) systems, simulations, models & tools\\n\\n+ Lead trade studies and offer guidance and expertise to identify design solutions that meet program requirements\\n\\n+ Lead design reviews, analyses, simulations and component/system testing to ensure delivery of products that meet or exceed customer requirements and expectations\\n\\n+ Work under minimal supervision.\\n\\n**This position requires the ability to obtain a U.S. Security Clearance for which the U.S. Government requires U.S. Citizenship.**  An interim and/or final U.S. Secret Clearance Post-Start is required.\\n\\n**Basic Qualifications (Required Skills/Experience):**\\n\\n+ Bachelor's, Master's or Doctorate of Science degree from an accredited course of study, in engineering, computer science, mathematics, physics or chemistry\\n\\n+ 8+ years pf experience in Guidance Navigation and Controls (GN&C).(5+ years of experience with a Master's degree or 3+ year of experience with a PhD)\\n\\n+ 4+ years of experience using Matlab/Simulink or MatrixX to model systems\\n\\n**Preferred Qualifications (Desired Skills/Experience):**\\n\\n+ Current active US Security Clearance\\n\\n+ Experience with simulation, system and component modeling\\n\\n+ Experience with implementing algorithms in real time systems\\n\\n+ Hardware in the Loop Simulator (HILS) experience\\n\\n**Relocation:**\\n\\nThis position offers relocation based on candidate eligibility.\\n\\n**Shift Work Statement:**\\n\\nThis position is for 1st shift\\n\\n**Drug Free Workplace:**\\n\\nBoeing is a Drug Free Workplace where post offer applicants and employees are subject to testing for marijuana, cocaine, opioids, amphetamines, PCP, and alcohol when criteria is met as outlined in our policies.\\n\\nBoeing is an Equal Opportunity Employer. Employment decisions are made without regard to race, color, religion, national origin, gender, sexual orientation, gender identity, age, physical or mental disability, genetic factors, military/veteran status or other characteristics protected by law.\n"
     ]
    }
   ],
   "source": [
    "# view a snippet of cleansed job description\n",
    "print(df['JobDescription'][1])"
   ]
  },
  {
   "cell_type": "code",
   "execution_count": 6,
   "id": "b8e3b867-17f6-4bd6-b928-15c1f6993386",
   "metadata": {},
   "outputs": [
    {
     "data": {
      "text/html": [
       "<div>\n",
       "<style scoped>\n",
       "    .dataframe tbody tr th:only-of-type {\n",
       "        vertical-align: middle;\n",
       "    }\n",
       "\n",
       "    .dataframe tbody tr th {\n",
       "        vertical-align: top;\n",
       "    }\n",
       "\n",
       "    .dataframe thead th {\n",
       "        text-align: right;\n",
       "    }\n",
       "</style>\n",
       "<table border=\"1\" class=\"dataframe\">\n",
       "  <thead>\n",
       "    <tr style=\"text-align: right;\">\n",
       "      <th></th>\n",
       "      <th>RequisitionID</th>\n",
       "      <th>OrigJobTitle</th>\n",
       "      <th>JobTitle</th>\n",
       "      <th>JobDescription</th>\n",
       "    </tr>\n",
       "  </thead>\n",
       "  <tbody>\n",
       "    <tr>\n",
       "      <th>0</th>\n",
       "      <td>NaN</td>\n",
       "      <td>Licensed Stationary Engineer</td>\n",
       "      <td>ENGINEER (all other)</td>\n",
       "      <td>Licensed Stationary Engineer \\n\\n Froedtert So...</td>\n",
       "    </tr>\n",
       "    <tr>\n",
       "      <th>1</th>\n",
       "      <td>00000224907</td>\n",
       "      <td>Guidance Navigation and Control (GN&amp;C) Enginee...</td>\n",
       "      <td>ENGINEER (all other)</td>\n",
       "      <td>**The Boeing Company**  is in search of a  **L...</td>\n",
       "    </tr>\n",
       "    <tr>\n",
       "      <th>2</th>\n",
       "      <td>00000331804</td>\n",
       "      <td>Propulsion Engineer - Associate, Mid-Level and...</td>\n",
       "      <td>ENGINEER (all other)</td>\n",
       "      <td>**Job Description**\\n\\nAt Boeing, we innovate ...</td>\n",
       "    </tr>\n",
       "    <tr>\n",
       "      <th>3</th>\n",
       "      <td>00000336462</td>\n",
       "      <td>Senior Process Controls Engineer</td>\n",
       "      <td>ENGINEER (all other)</td>\n",
       "      <td>**Job Description**\\n\\nAt Boeing, we innovate ...</td>\n",
       "    </tr>\n",
       "    <tr>\n",
       "      <th>4</th>\n",
       "      <td>00000338951</td>\n",
       "      <td>RF/Microwave Engineer (Level 2 or 3)</td>\n",
       "      <td>ENGINEER (all other)</td>\n",
       "      <td>**Job Description**\\n\\nAt Boeing, we innovate ...</td>\n",
       "    </tr>\n",
       "  </tbody>\n",
       "</table>\n",
       "</div>"
      ],
      "text/plain": [
       "  RequisitionID                                       OrigJobTitle  \\\n",
       "0           NaN                       Licensed Stationary Engineer   \n",
       "1   00000224907  Guidance Navigation and Control (GN&C) Enginee...   \n",
       "2   00000331804  Propulsion Engineer - Associate, Mid-Level and...   \n",
       "3   00000336462                   Senior Process Controls Engineer   \n",
       "4   00000338951               RF/Microwave Engineer (Level 2 or 3)   \n",
       "\n",
       "               JobTitle                                     JobDescription  \n",
       "0  ENGINEER (all other)  Licensed Stationary Engineer \\n\\n Froedtert So...  \n",
       "1  ENGINEER (all other)  **The Boeing Company**  is in search of a  **L...  \n",
       "2  ENGINEER (all other)  **Job Description**\\n\\nAt Boeing, we innovate ...  \n",
       "3  ENGINEER (all other)  **Job Description**\\n\\nAt Boeing, we innovate ...  \n",
       "4  ENGINEER (all other)  **Job Description**\\n\\nAt Boeing, we innovate ...  "
      ]
     },
     "execution_count": 6,
     "metadata": {},
     "output_type": "execute_result"
    }
   ],
   "source": [
    "df.head()"
   ]
  },
  {
   "cell_type": "code",
   "execution_count": 4,
   "id": "ffec2d3d-51b6-4a57-a12e-41343dfa1eb3",
   "metadata": {},
   "outputs": [
    {
     "name": "stdout",
     "output_type": "stream",
     "text": [
      "(500, 4)\n"
     ]
    }
   ],
   "source": [
    "# select 500 random job postings\n",
    "df_sampled = df.sample(n=500, random_state=42) # random state is for reproducibility\n",
    "print(df_sampled.shape)"
   ]
  },
  {
   "cell_type": "markdown",
   "id": "a39e8582-204b-490d-9f76-2a3a5c85ea18",
   "metadata": {},
   "source": [
    "The API configuration and data collection section. We only run this once and store the output in a csv file. "
   ]
  },
  {
   "cell_type": "code",
   "execution_count": null,
   "id": "95e4853a-d15c-437a-b3a4-eaad63d1f10e",
   "metadata": {},
   "outputs": [],
   "source": [
    "# if first time, uncomment line below and run it\n",
    "# pip install openai"
   ]
  },
  {
   "cell_type": "code",
   "execution_count": 5,
   "id": "5acd59d4-4212-41e7-a18e-69bcfe880a7c",
   "metadata": {},
   "outputs": [],
   "source": [
    "import openai\n",
    "\n",
    "# Load environment variables from the .env file\n",
    "load_dotenv()\n",
    "\n",
    "# Get the API key from environment variable\n",
    "api_key = os.getenv('OPENAI_API_KEY')\n",
    "\n",
    "client = openai.OpenAI(api_key=api_key)\n",
    "\n",
    "def call_openai_api(prompt): \n",
    "    try: \n",
    "        chat_completion = client.chat.completions.create( \n",
    "            messages=[ { \"role\": \"user\", \"content\": \"follow the format and DON't other weird delimiters.\" + prompt, } ], \n",
    "            model=\"gpt-4o-mini\", # stream = True \n",
    "        )\n",
    "            \n",
    "        return chat_completion.choices[0].message.content\n",
    "    except Exception as e:\n",
    "        return f\"Error: {str(e)}\""
   ]
  },
  {
   "cell_type": "code",
   "execution_count": 7,
   "id": "5e821010-bd86-45e5-a7e7-34d59218a9ef",
   "metadata": {},
   "outputs": [
    {
     "data": {
      "text/plain": [
       "'how can i help you'"
      ]
     },
     "execution_count": 7,
     "metadata": {},
     "output_type": "execute_result"
    }
   ],
   "source": [
    "call_openai_api('Hello. Return \"how can i help you\" if this works.')"
   ]
  },
  {
   "cell_type": "code",
   "execution_count": null,
   "id": "b1533349-1db9-4a97-8c89-636b8a2dd5b8",
   "metadata": {},
   "outputs": [],
   "source": [
    "# Function to send each job posting to GPT-4o mini and categorize it\n",
    "def categorize_job_posting(job_posting):\n",
    "    # Build the prompt\n",
    "    prompt = f\"\"\"\n",
    "    Break up the following job description into the following categories: Marketing, Description, Requirements, Legal.\n",
    "    For each category, return an array containing the sentences from the job posting corresponding to the category. Return this in JSON formatting\n",
    "\n",
    "    Job Posting:\n",
    "    \"{job_posting}\"\n",
    "\n",
    "    The format should be as follows:\n",
    "\n",
    "    **Marketing:** [Any sentence that promotes the job or company]\n",
    "    **Description:** [Any sentence that explains the job role, company, or purpose of the role]\n",
    "    **Requirements:** [Any sentence that outlines qualifications or skills needed for the role]\n",
    "    **Legal:** [Any sentence that includes legal or compliance information such as equal opportunity statements, privacy, or legal disclaimers]\n",
    "    \"\"\"\n",
    "\n",
    "    # Call the GPT-4o mini API with the prompt\n",
    "    response = openai.ChatCompletion.create(\n",
    "        model=\"gpt-4o-mini\",  # Use the specific GPT-4o mini model name\n",
    "        messages=[\n",
    "            {\"role\": \"system\", \"content\": \"Follow the format and DON'T use other weird delimiters.\"},\n",
    "            {\"role\": \"user\", \"content\": prompt}\n",
    "        ],\n",
    "        #max_tokens=1000  # Adjust tokens based on job posting length\n",
    "    )\n",
    "\n",
    "    # Extract the response text\n",
    "    categorized_text = response['choices'][0]['message']['content']\n",
    "    return categorized_text\n",
    "\n",
    "# Process all 500 job postings and store the results\n",
    "df_sampled['Categorized_Posting'] = df_sampled['JobDescription'].apply(categorize_job_posting)\n",
    "\n",
    "# Save the results to a data frame as JASON objects\n",
    "df_sampled"
   ]
  },
  {
   "cell_type": "code",
   "execution_count": null,
   "id": "5d02a127-7b8f-4b5b-a09c-ebbf18318f86",
   "metadata": {},
   "outputs": [],
   "source": [
    "df_sampled['Categorized_Posting'][9666]"
   ]
  },
  {
   "cell_type": "markdown",
   "id": "6c278878-74a5-47bd-b2b3-4aedb1e08fdb",
   "metadata": {},
   "source": [
    "Now that we have our data file of 500 random postings, we can start training the classifier"
   ]
  },
  {
   "cell_type": "code",
   "execution_count": 5,
   "id": "aca905d9-343c-4bcc-a6b9-2a9dab73fd69",
   "metadata": {},
   "outputs": [
    {
     "name": "stdout",
     "output_type": "stream",
     "text": [
      "                                      JobDescription  \\\n",
      "0  SURVIVABILITY ENGINEER 2\\n\\nLocation:\\n\\nNewpo...   \n",
      "1  Requisition Number: 15838 \\n\\nRequired Travel:...   \n",
      "2  **Secure our Nation, Ignite your Future**\\n\\n*...   \n",
      "3  Description:\\n\\nWe are looking for an Instrume...   \n",
      "4  RH2 is currently seeking an entry-level Staff ...   \n",
      "\n",
      "                                 Categorized_Posting  \n",
      "0  ```json\\n{\\n  \"Marketing\": [\\n    \"Want to be ...  \n",
      "1  ```json\\n{\\n    \"Marketing\": [\\n        \"HII b...  \n",
      "2  ```json\\n{\\n    \"Marketing\": [\\n        \"Secur...  \n",
      "3  ```json\\n{\\n    \"Marketing\": [\\n        \"At Ac...  \n",
      "4  ```json\\n{\\n  \"Marketing\": [\\n    \"Our team is...  \n"
     ]
    }
   ],
   "source": [
    "# Load the api output CSV file\n",
    "df_output = pd.read_csv('data/output_file.csv')\n",
    "\n",
    "# Check the first few rows to ensure the data looks good\n",
    "print(df_output.head())"
   ]
  },
  {
   "cell_type": "markdown",
   "id": "190549dc-b3bd-4605-98f3-77aaacb4013e",
   "metadata": {},
   "source": [
    "Now we will preprocess the text data to prepare it for training. FastText is a shallow neural network model that generates embeddings for words and sentences. It handles the vectorization of text internally (through word embeddings) and doesn’t require TfidfVectorizer or manual feature extraction."
   ]
  },
  {
   "cell_type": "code",
   "execution_count": 16,
   "id": "6db1d25f-3214-4568-91f4-df1f46607bf0",
   "metadata": {},
   "outputs": [
    {
     "name": "stdout",
     "output_type": "stream",
     "text": [
      "Collecting scikit-learn\n",
      "  Downloading scikit_learn-1.5.2-cp311-cp311-macosx_12_0_arm64.whl.metadata (13 kB)\n",
      "Requirement already satisfied: numpy>=1.19.5 in ./candogram/lib/python3.11/site-packages (from scikit-learn) (2.1.0)\n",
      "Collecting scipy>=1.6.0 (from scikit-learn)\n",
      "  Downloading scipy-1.14.1-cp311-cp311-macosx_14_0_arm64.whl.metadata (60 kB)\n",
      "Collecting joblib>=1.2.0 (from scikit-learn)\n",
      "  Downloading joblib-1.4.2-py3-none-any.whl.metadata (5.4 kB)\n",
      "Collecting threadpoolctl>=3.1.0 (from scikit-learn)\n",
      "  Downloading threadpoolctl-3.5.0-py3-none-any.whl.metadata (13 kB)\n",
      "Downloading scikit_learn-1.5.2-cp311-cp311-macosx_12_0_arm64.whl (11.0 MB)\n",
      "\u001b[2K   \u001b[38;2;114;156;31m━━━━━━━━━━━━━━━━━━━━━━━━━━━━━━━━━━━━━━━━\u001b[0m \u001b[32m11.0/11.0 MB\u001b[0m \u001b[31m3.6 MB/s\u001b[0m eta \u001b[36m0:00:00\u001b[0m[36m0:00:01\u001b[0m[36m0:00:01\u001b[0m01\u001b[0m\n",
      "\u001b[?25hDownloading joblib-1.4.2-py3-none-any.whl (301 kB)\n",
      "Downloading scipy-1.14.1-cp311-cp311-macosx_14_0_arm64.whl (23.1 MB)\n",
      "\u001b[2K   \u001b[38;2;114;156;31m━━━━━━━━━━━━━━━━━━━━━━━━━━━━━━━━━━━━━━━━\u001b[0m \u001b[32m23.1/23.1 MB\u001b[0m \u001b[31m3.5 MB/s\u001b[0m eta \u001b[36m0:00:00\u001b[0m[36m0:00:01\u001b[0mm eta \u001b[36m0:00:01\u001b[0m\n",
      "\u001b[?25hDownloading threadpoolctl-3.5.0-py3-none-any.whl (18 kB)\n",
      "Installing collected packages: threadpoolctl, scipy, joblib, scikit-learn\n",
      "Successfully installed joblib-1.4.2 scikit-learn-1.5.2 scipy-1.14.1 threadpoolctl-3.5.0\n",
      "Note: you may need to restart the kernel to use updated packages.\n"
     ]
    }
   ],
   "source": [
    "#pip install scikit-learn"
   ]
  },
  {
   "cell_type": "code",
   "execution_count": 8,
   "id": "d83599d0-bbe3-450d-a603-c199442cf689",
   "metadata": {},
   "outputs": [
    {
     "name": "stdout",
     "output_type": "stream",
     "text": [
      "Index(['JobDescription', 'Categorized_Posting'], dtype='object')\n"
     ]
    }
   ],
   "source": [
    "# we realize that we only have two columns, with categorized_posting having a json structure that we need to convert\n",
    "print(df_output.columns)"
   ]
  },
  {
   "cell_type": "code",
   "execution_count": 6,
   "id": "46b84e76-c0cd-43d8-8615-1eb463974c84",
   "metadata": {},
   "outputs": [
    {
     "data": {
      "text/html": [
       "<div>\n",
       "<style scoped>\n",
       "    .dataframe tbody tr th:only-of-type {\n",
       "        vertical-align: middle;\n",
       "    }\n",
       "\n",
       "    .dataframe tbody tr th {\n",
       "        vertical-align: top;\n",
       "    }\n",
       "\n",
       "    .dataframe thead th {\n",
       "        text-align: right;\n",
       "    }\n",
       "</style>\n",
       "<table border=\"1\" class=\"dataframe\">\n",
       "  <thead>\n",
       "    <tr style=\"text-align: right;\">\n",
       "      <th></th>\n",
       "      <th>JobDescription</th>\n",
       "      <th>Description</th>\n",
       "    </tr>\n",
       "  </thead>\n",
       "  <tbody>\n",
       "    <tr>\n",
       "      <th>0</th>\n",
       "      <td>SURVIVABILITY ENGINEER 2\\n\\nLocation:\\n\\nNewpo...</td>\n",
       "      <td>[With more than 25,000 employees - including t...</td>\n",
       "    </tr>\n",
       "    <tr>\n",
       "      <th>1</th>\n",
       "      <td>Requisition Number: 15838 \\n\\nRequired Travel:...</td>\n",
       "      <td>[HII Mission Technologies Division is seeking ...</td>\n",
       "    </tr>\n",
       "    <tr>\n",
       "      <th>2</th>\n",
       "      <td>**Secure our Nation, Ignite your Future**\\n\\n*...</td>\n",
       "      <td>[Seeking an experienced Automation &amp; Orchestra...</td>\n",
       "    </tr>\n",
       "    <tr>\n",
       "      <th>3</th>\n",
       "      <td>Description:\\n\\nWe are looking for an Instrume...</td>\n",
       "      <td>[We are looking for an Instrumentation and Con...</td>\n",
       "    </tr>\n",
       "    <tr>\n",
       "      <th>4</th>\n",
       "      <td>RH2 is currently seeking an entry-level Staff ...</td>\n",
       "      <td>[RH2 is currently seeking an entry-level Staff...</td>\n",
       "    </tr>\n",
       "  </tbody>\n",
       "</table>\n",
       "</div>"
      ],
      "text/plain": [
       "                                      JobDescription  \\\n",
       "0  SURVIVABILITY ENGINEER 2\\n\\nLocation:\\n\\nNewpo...   \n",
       "1  Requisition Number: 15838 \\n\\nRequired Travel:...   \n",
       "2  **Secure our Nation, Ignite your Future**\\n\\n*...   \n",
       "3  Description:\\n\\nWe are looking for an Instrume...   \n",
       "4  RH2 is currently seeking an entry-level Staff ...   \n",
       "\n",
       "                                         Description  \n",
       "0  [With more than 25,000 employees - including t...  \n",
       "1  [HII Mission Technologies Division is seeking ...  \n",
       "2  [Seeking an experienced Automation & Orchestra...  \n",
       "3  [We are looking for an Instrumentation and Con...  \n",
       "4  [RH2 is currently seeking an entry-level Staff...  "
      ]
     },
     "execution_count": 6,
     "metadata": {},
     "output_type": "execute_result"
    }
   ],
   "source": [
    "import json\n",
    "import re\n",
    "\n",
    "# Function to clean and load the JSON-like data\n",
    "def clean_json_string(json_string):\n",
    "    # Remove unwanted formatting (like \"```json\\n\" and trailing \"```\")\n",
    "    cleaned_string = re.sub(r'```json\\n|```', '', json_string)\n",
    "    try:\n",
    "        return json.loads(cleaned_string)  # Convert the cleaned string to a dictionary\n",
    "    except json.JSONDecodeError:\n",
    "        return {}\n",
    "\n",
    "# Clean the 'Categorized_Posting' column and convert to a dictionary\n",
    "df_output['Categorized_Posting'] = df_output['Categorized_Posting'].apply(clean_json_string)\n",
    "\n",
    "# Extract the 'Description' category from each posting\n",
    "df_output['Description'] = df_output['Categorized_Posting'].apply(lambda x: x.get('Description', []))\n",
    "\n",
    "# Display the first few rows with the extracted 'Description'\n",
    "df_output[['JobDescription', 'Description']].head()"
   ]
  },
  {
   "cell_type": "code",
   "execution_count": 7,
   "id": "a636c0e8-010f-4f52-882d-30e0b52e1f15",
   "metadata": {},
   "outputs": [
    {
     "name": "stdout",
     "output_type": "stream",
     "text": [
      "                                      JobDescription  \\\n",
      "0  SURVIVABILITY ENGINEER 2\\n\\nLocation:\\n\\nNewpo...   \n",
      "1  Requisition Number: 15838 \\n\\nRequired Travel:...   \n",
      "2  **Secure our Nation, Ignite your Future**\\n\\n*...   \n",
      "3  Description:\\n\\nWe are looking for an Instrume...   \n",
      "4  RH2 is currently seeking an entry-level Staff ...   \n",
      "\n",
      "                                    Description_Text  \n",
      "0  With more than 25,000 employees - including th...  \n",
      "1  HII Mission Technologies Division is seeking a...  \n",
      "2  Seeking an experienced Automation & Orchestrat...  \n",
      "3  We are looking for an Instrumentation and Cont...  \n",
      "4  RH2 is currently seeking an entry-level Staff ...  \n"
     ]
    }
   ],
   "source": [
    "# for joining the description sentences, convert from list format to single string per job posting\n",
    "def join_description_sentences(description_list):\n",
    "    return ' '.join(description_list) if isinstance(description_list, list) else description_list\n",
    "\n",
    "# Apply the function to the 'Description' column\n",
    "df_output['Description_Text'] = df_output['Description'].apply(join_description_sentences)\n",
    "\n",
    "# Display the first few rows to verify\n",
    "print(df_output[['JobDescription', 'Description_Text']].head())"
   ]
  },
  {
   "cell_type": "code",
   "execution_count": 9,
   "id": "d17a4d83-070f-434d-b937-8b4aa8c624ae",
   "metadata": {},
   "outputs": [
    {
     "name": "stdout",
     "output_type": "stream",
     "text": [
      "Collecting fasttext\n",
      "  Downloading fasttext-0.9.3.tar.gz (73 kB)\n",
      "  Installing build dependencies ... \u001b[?25ldone\n",
      "\u001b[?25h  Getting requirements to build wheel ... \u001b[?25ldone\n",
      "\u001b[?25h  Preparing metadata (pyproject.toml) ... \u001b[?25ldone\n",
      "\u001b[?25hCollecting pybind11>=2.2 (from fasttext)\n",
      "  Using cached pybind11-2.13.6-py3-none-any.whl.metadata (9.5 kB)\n",
      "Requirement already satisfied: setuptools>=0.7.0 in ./candogram/lib/python3.11/site-packages (from fasttext) (65.5.0)\n",
      "Requirement already satisfied: numpy in ./candogram/lib/python3.11/site-packages (from fasttext) (2.1.0)\n",
      "Using cached pybind11-2.13.6-py3-none-any.whl (243 kB)\n",
      "Building wheels for collected packages: fasttext\n",
      "  Building wheel for fasttext (pyproject.toml) ... \u001b[?25ldone\n",
      "\u001b[?25h  Created wheel for fasttext: filename=fasttext-0.9.3-cp311-cp311-macosx_14_0_universal2.whl size=628475 sha256=b2748b7e83ff85bcdf775a818516e47202d4a88e6399f9df32d4f5be52a0f840\n",
      "  Stored in directory: /Users/samiulsaimon/Library/Caches/pip/wheels/65/4f/35/5057db0249224e9ab55a513fa6b79451473ceb7713017823c3\n",
      "Successfully built fasttext\n",
      "Installing collected packages: pybind11, fasttext\n",
      "Successfully installed fasttext-0.9.3 pybind11-2.13.6\n",
      "Note: you may need to restart the kernel to use updated packages.\n"
     ]
    }
   ],
   "source": [
    "#pip install fasttext"
   ]
  },
  {
   "cell_type": "code",
   "execution_count": 8,
   "id": "3a9665d2-df70-4d7f-881c-2be32d0f1b7c",
   "metadata": {},
   "outputs": [
    {
     "name": "stderr",
     "output_type": "stream",
     "text": [
      "Read 0M words\n",
      "Number of words:  11132\n",
      "Number of labels: 1\n",
      "Progress: 100.0% words/sec/thread:  645204 lr:  0.000000 avg.loss:  0.000000 ETA:   0h 0m 0sh 0m 0s\n"
     ]
    }
   ],
   "source": [
    "# prepare data for fasttext training, needs a specific format\n",
    "import fasttext\n",
    "\n",
    "def prepare_fasttext_data(df, text_column, output_file):\n",
    "    with open(output_file, 'w') as f:\n",
    "        for text in df[text_column]:\n",
    "            f.write(f'__label__description\\t{text}\\n')\n",
    "\n",
    "# Ensure the data directory exists\n",
    "os.makedirs('data', exist_ok=True)\n",
    "\n",
    "# Prepare the training data\n",
    "prepare_fasttext_data(df_output, 'Description_Text', 'data/fasttext_train.txt')\n",
    "\n",
    "# Train the FastText model\n",
    "model = fasttext.train_supervised(input='data/fasttext_train.txt', epoch=25, lr=1.0, wordNgrams=2)\n",
    "\n",
    "# Save the model\n",
    "model.save_model(\"data/job_description_classifier.bin\")"
   ]
  },
  {
   "cell_type": "code",
   "execution_count": 10,
   "id": "74febb5f-b376-4164-8d13-85bc42bd0d80",
   "metadata": {},
   "outputs": [
    {
     "name": "stdout",
     "output_type": "stream",
     "text": [
      "Requirement already satisfied: nltk in ./candogram/lib/python3.11/site-packages (3.9.1)\n",
      "Requirement already satisfied: click in ./candogram/lib/python3.11/site-packages (from nltk) (8.1.7)\n",
      "Requirement already satisfied: joblib in ./candogram/lib/python3.11/site-packages (from nltk) (1.4.2)\n",
      "Requirement already satisfied: regex>=2021.8.3 in ./candogram/lib/python3.11/site-packages (from nltk) (2024.9.11)\n",
      "Requirement already satisfied: tqdm in ./candogram/lib/python3.11/site-packages (from nltk) (4.66.5)\n"
     ]
    }
   ],
   "source": [
    "#!pip install nltk"
   ]
  },
  {
   "cell_type": "code",
   "execution_count": 14,
   "id": "601628a0-1ec8-4254-9343-aa50f2cfd0e3",
   "metadata": {},
   "outputs": [
    {
     "name": "stderr",
     "output_type": "stream",
     "text": [
      "[nltk_data] Downloading package punkt_tab to\n",
      "[nltk_data]     /Users/samiulsaimon/nltk_data...\n"
     ]
    },
    {
     "name": "stdout",
     "output_type": "stream",
     "text": [
      "['/Users/samiulsaimon/nltk_data', '/Users/samiulsaimon/Downloads/Breakthrough Tech/Candogram/candogram/nltk_data', '/Users/samiulsaimon/Downloads/Breakthrough Tech/Candogram/candogram/share/nltk_data', '/Users/samiulsaimon/Downloads/Breakthrough Tech/Candogram/candogram/lib/nltk_data', '/usr/share/nltk_data', '/usr/local/share/nltk_data', '/usr/lib/nltk_data', '/usr/local/lib/nltk_data', '/Users/samiulsaimon/nltk_data', '/Users/samiulsaimon/nltk_data']\n"
     ]
    },
    {
     "name": "stderr",
     "output_type": "stream",
     "text": [
      "[nltk_data]   Unzipping tokenizers/punkt_tab.zip.\n"
     ]
    }
   ],
   "source": [
    "import nltk\n",
    "nltk.download('punkt_tab', download_dir='/Users/samiulsaimon/nltk_data')\n",
    "nltk.data.path.append('/Users/samiulsaimon/nltk_data')\n",
    "# List all NLTK data paths where resources are stored\n",
    "print(nltk.data.path)\n",
    "nltk.data.clear_cache()\n"
   ]
  },
  {
   "cell_type": "code",
   "execution_count": 9,
   "id": "41bf5016-4fa0-4c46-98ff-5d09a700263e",
   "metadata": {},
   "outputs": [
    {
     "name": "stdout",
     "output_type": "stream",
     "text": [
      "['Here is a sentence.', \"Let's check if sentence tokenization works.\"]\n"
     ]
    }
   ],
   "source": [
    "import nltk\n",
    "from nltk.tokenize import sent_tokenize\n",
    "\n",
    "text = \"Here is a sentence. Let's check if sentence tokenization works.\"\n",
    "sentences = sent_tokenize(text)\n",
    "print(sentences)"
   ]
  },
  {
   "cell_type": "code",
   "execution_count": 10,
   "id": "37e905e8-d756-4ce1-aa6d-d379b5d96e8c",
   "metadata": {},
   "outputs": [
    {
     "name": "stdout",
     "output_type": "stream",
     "text": [
      "                                      JobDescription Extracted_Description\n",
      "0  Licensed Stationary Engineer \\n\\n Froedtert So...                      \n",
      "1  **The Boeing Company**  is in search of a  **L...                      \n",
      "2  **Job Description**\\n\\nAt Boeing, we innovate ...                      \n",
      "3  **Job Description**\\n\\nAt Boeing, we innovate ...                      \n",
      "4  **Job Description**\\n\\nAt Boeing, we innovate ...                      \n"
     ]
    }
   ],
   "source": [
    "import nltk\n",
    "# extract job postings using fasttext model\n",
    "\n",
    "def extract_descriptions(job_description):\n",
    "    sentences = job_description.split('. ') \n",
    "    description_sentences = []\n",
    "    sentences = [sentence.strip() for sentence in sentences if sentence.strip()]\n",
    "    labels = model.predict(sentences)[0]  # Get the labels from the predictions\n",
    "    for sentence, label in zip(sentences, labels):\n",
    "        if label[0] == '__label__Description':  # Check if the label is 'Description'\n",
    "            description_sentences.append(sentence.replace('\\\\n', '\\n'))\n",
    "    \n",
    "    return description_sentences\n",
    "\n",
    "# Load the full dataset\n",
    "full_df = pd.read_csv('data/Engineer_20230826.csv')\n",
    "\n",
    "# Load the trained model\n",
    "model = fasttext.load_model(\"data/job_description_classifier.bin\")\n",
    "\n",
    "# Extract job descriptions\n",
    "full_df['Extracted_Description'] = full_df['JobDescription'].apply(extract_descriptions)\n",
    "\n",
    "# Join the extracted sentences into a single string\n",
    "full_df['Extracted_Description'] = full_df['Extracted_Description'].apply(lambda x: '. '.join(x) if x else '')\n",
    "\n",
    "# Display a few examples\n",
    "print(full_df[['JobDescription', 'Extracted_Description']].head())"
   ]
  },
  {
   "cell_type": "code",
   "execution_count": 11,
   "id": "223ba745-6199-4884-b501-d49ae16b2297",
   "metadata": {},
   "outputs": [
    {
     "name": "stdout",
     "output_type": "stream",
     "text": [
      "Shape of embeddings: (20137, 100)\n",
      "First embedding: [ 8.52305349e-03  6.38503628e-03 -5.03263716e-03  8.71531572e-03\n",
      " -4.03855927e-03  5.75719215e-03  9.95511375e-03  8.69299693e-04\n",
      " -8.06536153e-03 -4.75412467e-03 -6.99225720e-03  1.34492933e-03\n",
      "  7.31564313e-03 -7.34921254e-04  6.19187020e-03 -8.22682225e-04\n",
      "  1.54308145e-04 -7.64006237e-03  4.00145305e-04  2.07779417e-03\n",
      "  3.16894474e-03  6.12092577e-03  9.95143782e-04  6.35271473e-03\n",
      " -6.85040141e-03  5.84562495e-03 -3.88385844e-03  4.92727384e-03\n",
      " -9.76424851e-03  3.67200444e-03  3.83625063e-03  8.76055751e-03\n",
      " -2.02125637e-03 -9.98733938e-03  1.13834580e-03  5.48957556e-04\n",
      "  1.09340845e-05 -2.61912495e-03 -6.73588540e-04  1.90360425e-03\n",
      "  3.42108519e-03  4.86649480e-03  7.01708114e-03  8.38451367e-03\n",
      "  4.75728745e-03  1.39981962e-03 -9.06523084e-04  1.49050937e-03\n",
      " -7.08915852e-03  7.78389676e-03 -6.62823068e-03  3.81192687e-04\n",
      "  3.98337655e-03 -8.11698195e-03  8.94409884e-03  4.47224965e-03\n",
      "  2.42999429e-03 -3.50439083e-03  6.84922887e-03 -9.93439648e-03\n",
      "  5.99049823e-03  2.45353975e-03  7.52749201e-03  8.34201742e-03\n",
      "  8.14261194e-03 -4.23610210e-03 -3.62754404e-03  4.34307102e-03\n",
      " -7.24796159e-03  2.05568154e-03 -5.12536010e-03  7.08766340e-04\n",
      "  9.02670342e-03  4.90758475e-03 -6.26919931e-03  3.13808955e-03\n",
      " -2.18917453e-03 -2.50624074e-03  7.55691808e-03 -8.81937612e-03\n",
      "  6.77583972e-03  3.90725443e-03 -6.31805556e-03  5.71484072e-03\n",
      "  6.05029333e-03  5.64286299e-03  8.95892736e-03  1.59186078e-03\n",
      "  1.58833794e-03 -9.29722004e-03 -2.59500137e-03  8.75558797e-03\n",
      " -2.23058523e-04  9.63813346e-03  5.33684809e-03 -6.90946414e-04\n",
      " -8.96352902e-03 -2.38869293e-03 -9.33634955e-03 -6.09912444e-03]\n"
     ]
    }
   ],
   "source": [
    "def generate_fasttext_embeddings(texts, model):\n",
    "    embeddings = []\n",
    "    for text in texts:\n",
    "        embedding = model.get_sentence_vector(text)\n",
    "        embeddings.append(embedding)\n",
    "    return np.array(embeddings)\n",
    "\n",
    "# Generate embeddings\n",
    "embeddings = generate_fasttext_embeddings(full_df['Extracted_Description'], model)\n",
    "\n",
    "print(\"Shape of embeddings:\", embeddings.shape)\n",
    "print(\"First embedding:\", embeddings[0])"
   ]
  },
  {
   "cell_type": "code",
   "execution_count": 12,
   "id": "ce4ef4b6-deb4-4ecf-b6e7-7b97d98a6ae7",
   "metadata": {},
   "outputs": [
    {
     "name": "stdout",
     "output_type": "stream",
     "text": [
      "Clustering complete. Cluster distribution:\n",
      "Cluster\n",
      "0    20137\n",
      "Name: count, dtype: int64\n"
     ]
    },
    {
     "name": "stderr",
     "output_type": "stream",
     "text": [
      "/Users/samiulsaimon/Downloads/Breakthrough Tech/Candogram/candogram/lib/python3.11/site-packages/sklearn/base.py:1473: ConvergenceWarning: Number of distinct clusters (1) found smaller than n_clusters (10). Possibly due to duplicate points in X.\n",
      "  return fit_method(estimator, *args, **kwargs)\n"
     ]
    }
   ],
   "source": [
    "from sklearn.cluster import KMeans\n",
    "from sklearn.preprocessing import StandardScaler\n",
    "\n",
    "def perform_kmeans_clustering(embeddings, n_clusters=10):\n",
    "    # Standardize the features\n",
    "    scaler = StandardScaler()\n",
    "    scaled_embeddings = scaler.fit_transform(embeddings)\n",
    "    \n",
    "    # Perform KMeans clustering\n",
    "    kmeans = KMeans(n_clusters=n_clusters, random_state=42)\n",
    "    cluster_labels = kmeans.fit_predict(scaled_embeddings)\n",
    "    \n",
    "    return cluster_labels, kmeans\n",
    "\n",
    "# Perform clustering\n",
    "n_clusters = 10  # You can adjust this number\n",
    "cluster_labels, kmeans_model = perform_kmeans_clustering(embeddings, n_clusters)\n",
    "\n",
    "# Add cluster labels to the dataframe\n",
    "full_df['Cluster'] = cluster_labels\n",
    "\n",
    "print(\"Clustering complete. Cluster distribution:\")\n",
    "print(full_df['Cluster'].value_counts())"
   ]
  },
  {
   "cell_type": "code",
   "execution_count": 14,
   "id": "15908fa1-f755-4a67-b716-6ee0badffcb2",
   "metadata": {},
   "outputs": [
    {
     "name": "stdout",
     "output_type": "stream",
     "text": [
      "Collecting matplotlib\n",
      "  Downloading matplotlib-3.9.2-cp311-cp311-macosx_11_0_arm64.whl.metadata (11 kB)\n",
      "Collecting contourpy>=1.0.1 (from matplotlib)\n",
      "  Downloading contourpy-1.3.0-cp311-cp311-macosx_11_0_arm64.whl.metadata (5.4 kB)\n",
      "Collecting cycler>=0.10 (from matplotlib)\n",
      "  Downloading cycler-0.12.1-py3-none-any.whl.metadata (3.8 kB)\n",
      "Collecting fonttools>=4.22.0 (from matplotlib)\n",
      "  Downloading fonttools-4.54.1-cp311-cp311-macosx_11_0_arm64.whl.metadata (163 kB)\n",
      "Collecting kiwisolver>=1.3.1 (from matplotlib)\n",
      "  Downloading kiwisolver-1.4.7-cp311-cp311-macosx_11_0_arm64.whl.metadata (6.3 kB)\n",
      "Requirement already satisfied: numpy>=1.23 in ./candogram/lib/python3.11/site-packages (from matplotlib) (2.1.0)\n",
      "Requirement already satisfied: packaging>=20.0 in ./candogram/lib/python3.11/site-packages (from matplotlib) (24.1)\n",
      "Collecting pillow>=8 (from matplotlib)\n",
      "  Downloading pillow-10.4.0-cp311-cp311-macosx_11_0_arm64.whl.metadata (9.2 kB)\n",
      "Collecting pyparsing>=2.3.1 (from matplotlib)\n",
      "  Downloading pyparsing-3.2.0-py3-none-any.whl.metadata (5.0 kB)\n",
      "Requirement already satisfied: python-dateutil>=2.7 in ./candogram/lib/python3.11/site-packages (from matplotlib) (2.9.0.post0)\n",
      "Requirement already satisfied: six>=1.5 in ./candogram/lib/python3.11/site-packages (from python-dateutil>=2.7->matplotlib) (1.16.0)\n",
      "Downloading matplotlib-3.9.2-cp311-cp311-macosx_11_0_arm64.whl (7.8 MB)\n",
      "\u001b[2K   \u001b[38;2;114;156;31m━━━━━━━━━━━━━━━━━━━━━━━━━━━━━━━━━━━━━━━━\u001b[0m \u001b[32m7.8/7.8 MB\u001b[0m \u001b[31m3.6 MB/s\u001b[0m eta \u001b[36m0:00:00\u001b[0m MB/s\u001b[0m eta \u001b[36m0:00:01\u001b[0m:01\u001b[0m\n",
      "\u001b[?25hDownloading contourpy-1.3.0-cp311-cp311-macosx_11_0_arm64.whl (250 kB)\n",
      "Downloading cycler-0.12.1-py3-none-any.whl (8.3 kB)\n",
      "Downloading fonttools-4.54.1-cp311-cp311-macosx_11_0_arm64.whl (2.3 MB)\n",
      "\u001b[2K   \u001b[38;2;114;156;31m━━━━━━━━━━━━━━━━━━━━━━━━━━━━━━━━━━━━━━━━\u001b[0m \u001b[32m2.3/2.3 MB\u001b[0m \u001b[31m3.5 MB/s\u001b[0m eta \u001b[36m0:00:00\u001b[0m MB/s\u001b[0m eta \u001b[36m0:00:01\u001b[0m\n",
      "\u001b[?25hDownloading kiwisolver-1.4.7-cp311-cp311-macosx_11_0_arm64.whl (64 kB)\n",
      "Downloading pillow-10.4.0-cp311-cp311-macosx_11_0_arm64.whl (3.4 MB)\n",
      "\u001b[2K   \u001b[38;2;114;156;31m━━━━━━━━━━━━━━━━━━━━━━━━━━━━━━━━━━━━━━━━\u001b[0m \u001b[32m3.4/3.4 MB\u001b[0m \u001b[31m3.5 MB/s\u001b[0m eta \u001b[36m0:00:00\u001b[0m MB/s\u001b[0m eta \u001b[36m0:00:01\u001b[0m:01\u001b[0m\n",
      "\u001b[?25hDownloading pyparsing-3.2.0-py3-none-any.whl (106 kB)\n",
      "Installing collected packages: pyparsing, pillow, kiwisolver, fonttools, cycler, contourpy, matplotlib\n",
      "Successfully installed contourpy-1.3.0 cycler-0.12.1 fonttools-4.54.1 kiwisolver-1.4.7 matplotlib-3.9.2 pillow-10.4.0 pyparsing-3.2.0\n",
      "Note: you may need to restart the kernel to use updated packages.\n"
     ]
    }
   ],
   "source": [
    "#pip install matplotlib"
   ]
  },
  {
   "cell_type": "code",
   "execution_count": 16,
   "id": "097d545c-58b4-4b45-8833-e85590a610bc",
   "metadata": {},
   "outputs": [
    {
     "name": "stdout",
     "output_type": "stream",
     "text": [
      "Collecting seaborn\n",
      "  Downloading seaborn-0.13.2-py3-none-any.whl.metadata (5.4 kB)\n",
      "Requirement already satisfied: numpy!=1.24.0,>=1.20 in ./candogram/lib/python3.11/site-packages (from seaborn) (2.1.0)\n",
      "Requirement already satisfied: pandas>=1.2 in ./candogram/lib/python3.11/site-packages (from seaborn) (2.2.2)\n",
      "Requirement already satisfied: matplotlib!=3.6.1,>=3.4 in ./candogram/lib/python3.11/site-packages (from seaborn) (3.9.2)\n",
      "Requirement already satisfied: contourpy>=1.0.1 in ./candogram/lib/python3.11/site-packages (from matplotlib!=3.6.1,>=3.4->seaborn) (1.3.0)\n",
      "Requirement already satisfied: cycler>=0.10 in ./candogram/lib/python3.11/site-packages (from matplotlib!=3.6.1,>=3.4->seaborn) (0.12.1)\n",
      "Requirement already satisfied: fonttools>=4.22.0 in ./candogram/lib/python3.11/site-packages (from matplotlib!=3.6.1,>=3.4->seaborn) (4.54.1)\n",
      "Requirement already satisfied: kiwisolver>=1.3.1 in ./candogram/lib/python3.11/site-packages (from matplotlib!=3.6.1,>=3.4->seaborn) (1.4.7)\n",
      "Requirement already satisfied: packaging>=20.0 in ./candogram/lib/python3.11/site-packages (from matplotlib!=3.6.1,>=3.4->seaborn) (24.1)\n",
      "Requirement already satisfied: pillow>=8 in ./candogram/lib/python3.11/site-packages (from matplotlib!=3.6.1,>=3.4->seaborn) (10.4.0)\n",
      "Requirement already satisfied: pyparsing>=2.3.1 in ./candogram/lib/python3.11/site-packages (from matplotlib!=3.6.1,>=3.4->seaborn) (3.2.0)\n",
      "Requirement already satisfied: python-dateutil>=2.7 in ./candogram/lib/python3.11/site-packages (from matplotlib!=3.6.1,>=3.4->seaborn) (2.9.0.post0)\n",
      "Requirement already satisfied: pytz>=2020.1 in ./candogram/lib/python3.11/site-packages (from pandas>=1.2->seaborn) (2024.1)\n",
      "Requirement already satisfied: tzdata>=2022.7 in ./candogram/lib/python3.11/site-packages (from pandas>=1.2->seaborn) (2024.1)\n",
      "Requirement already satisfied: six>=1.5 in ./candogram/lib/python3.11/site-packages (from python-dateutil>=2.7->matplotlib!=3.6.1,>=3.4->seaborn) (1.16.0)\n",
      "Downloading seaborn-0.13.2-py3-none-any.whl (294 kB)\n",
      "Installing collected packages: seaborn\n",
      "Successfully installed seaborn-0.13.2\n",
      "Note: you may need to restart the kernel to use updated packages.\n"
     ]
    }
   ],
   "source": [
    "#pip install seaborn"
   ]
  },
  {
   "cell_type": "code",
   "execution_count": 17,
   "id": "64520b85-780d-4b23-bd78-4c2a382a43d3",
   "metadata": {},
   "outputs": [
    {
     "data": {
      "image/png": "[encoded data removed]",
      "text/plain": [
       "<Figure size 1000x800 with 2 Axes>"
      ]
     },
     "metadata": {},
     "output_type": "display_data"
    }
   ],
   "source": [
    "from sklearn.manifold import TSNE\n",
    "import matplotlib.pyplot as plt\n",
    "import seaborn as sns\n",
    "\n",
    "def visualize_clusters(embeddings, labels):\n",
    "    # Reduce dimensionality for visualization\n",
    "    tsne = TSNE(n_components=2, random_state=42)\n",
    "    reduced_embeddings = tsne.fit_transform(embeddings)\n",
    "    \n",
    "    # Create a scatter plot\n",
    "    plt.figure(figsize=(10, 8))\n",
    "    scatter = plt.scatter(reduced_embeddings[:, 0], reduced_embeddings[:, 1], c=labels, cmap='viridis')\n",
    "    plt.colorbar(scatter)\n",
    "    plt.title('Job Description Clusters')\n",
    "    plt.xlabel('t-SNE feature 1')\n",
    "    plt.ylabel('t-SNE feature 2')\n",
    "    plt.show()\n",
    "\n",
    "# Visualize the clusters\n",
    "visualize_clusters(embeddings, cluster_labels)"
   ]
  },
  {
   "cell_type": "code",
   "execution_count": 20,
   "id": "25d0ef88-b970-4209-a61a-59ac685c29c7",
   "metadata": {},
   "outputs": [
    {
     "name": "stderr",
     "output_type": "stream",
     "text": [
      "[nltk_data] Downloading package stopwords to\n",
      "[nltk_data]     /Users/samiulsaimon/nltk_data...\n",
      "[nltk_data]   Unzipping corpora/stopwords.zip.\n"
     ]
    },
    {
     "data": {
      "text/plain": [
       "True"
      ]
     },
     "execution_count": 20,
     "metadata": {},
     "output_type": "execute_result"
    }
   ],
   "source": [
    "nltk.download('stopwords')"
   ]
  },
  {
   "cell_type": "code",
   "execution_count": 22,
   "id": "685992bb-41ae-4899-ae36-adfde0d401ce",
   "metadata": {},
   "outputs": [
    {
     "name": "stdout",
     "output_type": "stream",
     "text": [
      "Cluster 0: \n",
      "   Cluster Suggested_Title                                       OrigJobTitle\n",
      "0        0                                       Licensed Stationary Engineer\n",
      "1        0                  Guidance Navigation and Control (GN&C) Enginee...\n",
      "2        0                  Propulsion Engineer - Associate, Mid-Level and...\n",
      "3        0                                   Senior Process Controls Engineer\n",
      "4        0                               RF/Microwave Engineer (Level 2 or 3)\n",
      "5        0                  Interior Stress Analysis Engineer - Career, Ex...\n",
      "6        0                  Flight Controls Laws and Autoflight Engineer (...\n",
      "7        0                       Lead RF/Digital Hardware Subsystems Engineer\n",
      "8        0                          Senior Integrated Circuit Layout Engineer\n",
      "9        0                         Senior Interiors Design Engineer - Level 4\n"
     ]
    }
   ],
   "source": [
    "from nltk.corpus import stopwords\n",
    "from collections import Counter # Import Counter for word frequency counting\n",
    "\n",
    "def suggest_cluster_titles(df, text_column, cluster_column, n_words=5):\n",
    "    stop_words = set(stopwords.words('english'))\n",
    "    cluster_titles = {}\n",
    "    \n",
    "    for cluster in df[cluster_column].unique():\n",
    "        cluster_texts = df[df[cluster_column] == cluster][text_column]\n",
    "        words = ' '.join(cluster_texts).lower().split()\n",
    "        word_counts = Counter(word for word in words if word not in stop_words and len(word) > 3)\n",
    "        top_words = [word for word, _ in word_counts.most_common(n_words)]\n",
    "        cluster_titles[cluster] = ' '.join(top_words)\n",
    "    \n",
    "    return cluster_titles\n",
    "\n",
    "# Suggest titles for each cluster\n",
    "cluster_titles = suggest_cluster_titles(full_df, 'Extracted_Description', 'Cluster')\n",
    "\n",
    "# Print suggested titles\n",
    "for cluster, title in cluster_titles.items():\n",
    "    print(f\"Cluster {cluster}: {title}\")\n",
    "\n",
    "# Add suggested titles to the dataframe\n",
    "full_df['Suggested_Title'] = full_df['Cluster'].map(cluster_titles)\n",
    "\n",
    "# Display a few examples\n",
    "print(full_df[['Cluster', 'Suggested_Title', 'OrigJobTitle']].head(10))"
   ]
  },
  {
   "cell_type": "code",
   "execution_count": null,
   "id": "b0e68266-b233-4975-b0ca-af263d8ac7fe",
   "metadata": {},
   "outputs": [],
   "source": []
  }
 ],
 "metadata": {
  "kernelspec": {
   "display_name": "candogram",
   "language": "python",
   "name": "candogram"
  },
  "language_info": {
   "codemirror_mode": {
    "name": "ipython",
    "version": 3
   },
   "file_extension": ".py",
   "mimetype": "text/x-python",
   "name": "python",
   "nbconvert_exporter": "python",
   "pygments_lexer": "ipython3",
   "version": "3.11.0"
  }
 },
 "nbformat": 4,
 "nbformat_minor": 5
}
